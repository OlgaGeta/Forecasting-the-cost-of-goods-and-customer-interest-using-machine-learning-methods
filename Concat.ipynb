{
  "nbformat": 4,
  "nbformat_minor": 0,
  "metadata": {
    "colab": {
      "provenance": []
    },
    "kernelspec": {
      "name": "python3",
      "display_name": "Python 3"
    },
    "language_info": {
      "name": "python"
    }
  },
  "cells": [
    {
      "cell_type": "code",
      "execution_count": null,
      "metadata": {
        "id": "xbTEWl0q-lYZ"
      },
      "outputs": [],
      "source": [
        "import pandas as pd\n",
        "import numpy as np\n",
        "import math\n",
        "import matplotlib.pyplot as plt"
      ]
    },
    {
      "cell_type": "code",
      "source": [
        "from google.colab import drive\n",
        "drive.mount('/content/drive')"
      ],
      "metadata": {
        "colab": {
          "base_uri": "https://localhost:8080/"
        },
        "id": "Xg6jMhea-mX5",
        "outputId": "2b49aba6-65cf-46af-c7e3-806df294b473"
      },
      "execution_count": null,
      "outputs": [
        {
          "output_type": "stream",
          "name": "stdout",
          "text": [
            "Drive already mounted at /content/drive; to attempt to forcibly remount, call drive.mount(\"/content/drive\", force_remount=True).\n"
          ]
        }
      ]
    },
    {
      "cell_type": "code",
      "source": [
        "pip install rarfile"
      ],
      "metadata": {
        "id": "qS6Z8m7V_rXk",
        "colab": {
          "base_uri": "https://localhost:8080/"
        },
        "outputId": "24a14065-0624-4d7c-d1d4-c9214d56a88b"
      },
      "execution_count": null,
      "outputs": [
        {
          "output_type": "stream",
          "name": "stdout",
          "text": [
            "Requirement already satisfied: rarfile in /usr/local/lib/python3.10/dist-packages (4.1)\n"
          ]
        }
      ]
    },
    {
      "cell_type": "code",
      "source": [
        "import rarfile"
      ],
      "metadata": {
        "id": "xpnoAL0j_vYA"
      },
      "execution_count": null,
      "outputs": []
    },
    {
      "cell_type": "markdown",
      "source": [
        "01_02_17_VSE"
      ],
      "metadata": {
        "id": "Bt_6Ag74__DX"
      }
    },
    {
      "cell_type": "code",
      "source": [
        "path = '/content/drive/MyDrive/diploma/!01_02_17_VSE.csv' #/content/drive/MyDrive/diploma/\n",
        "df01_02_17=pd.read_csv(path,sep=';' , encoding = 'cp1251')"
      ],
      "metadata": {
        "id": "gOtBqoC5-nvr"
      },
      "execution_count": null,
      "outputs": []
    },
    {
      "cell_type": "code",
      "source": [
        "df01_02_17 = df01_02_17[df01_02_17.Телефон_new != 0]"
      ],
      "metadata": {
        "id": "zO9Bhc0E_9hd"
      },
      "execution_count": null,
      "outputs": []
    },
    {
      "cell_type": "code",
      "source": [
        "df01_02_17 = df01_02_17[df01_02_17.Количество != 0]"
      ],
      "metadata": {
        "id": "kCobXmlk_9fE"
      },
      "execution_count": null,
      "outputs": []
    },
    {
      "cell_type": "code",
      "source": [
        "df01_02_17 = df01_02_17[df01_02_17.Цена != 0]"
      ],
      "metadata": {
        "id": "jI6WN9Na_9cx"
      },
      "execution_count": null,
      "outputs": []
    },
    {
      "cell_type": "code",
      "source": [
        "df01_02_17 = df01_02_17[df01_02_17.ГородМагазина != 0]"
      ],
      "metadata": {
        "id": "qhHHena2_9aY"
      },
      "execution_count": null,
      "outputs": []
    },
    {
      "cell_type": "code",
      "source": [
        "df01_02_17.drop(columns=['НомерСтроки'], inplace=True)"
      ],
      "metadata": {
        "id": "vGrpTlcW_9Xk"
      },
      "execution_count": null,
      "outputs": []
    },
    {
      "cell_type": "code",
      "source": [
        "df2 = df01_02_17.groupby('Телефон_new'). size().reset_index(name='count'). sort_values(['count'], ascending= False )"
      ],
      "metadata": {
        "id": "EsoRQeUQAI3O"
      },
      "execution_count": null,
      "outputs": []
    },
    {
      "cell_type": "code",
      "source": [
        "df3 = df2[df2['count'] > 80]"
      ],
      "metadata": {
        "id": "Lu6Mepn0AIzB"
      },
      "execution_count": null,
      "outputs": []
    },
    {
      "cell_type": "code",
      "source": [
        "df01_02_17[df01_02_17.Телефон_new == '0']"
      ],
      "metadata": {
        "colab": {
          "base_uri": "https://localhost:8080/",
          "height": 629
        },
        "id": "4EQoR88pAIws",
        "outputId": "75ab486f-342d-4825-e2fd-d09f4d982a3a"
      },
      "execution_count": null,
      "outputs": [
        {
          "output_type": "execute_result",
          "data": {
            "text/plain": [
              "                    Дата     ДатаДоставки НомерЗаказаНаСайте     НовыйСтатус  \\\n",
              "987     02.01.2017 16:12  13.01.2017 0:00         3532330_TR    Принят в ПВЗ   \n",
              "1004    02.01.2017 16:12  13.01.2017 0:00         3532330_TR    Принят в ПВЗ   \n",
              "1612    02.01.2017 17:13  04.01.2017 0:00         3533101_TR         Отменен   \n",
              "2145    02.01.2017 17:34  04.01.2017 0:00         3530014_TR  Возврат из ПВЗ   \n",
              "2153    02.01.2017 17:34  04.01.2017 0:00         3530014_TR  Возврат из ПВЗ   \n",
              "...                  ...              ...                ...             ...   \n",
              "542267  28.02.2017 15:23  16.03.2017 0:00         3993975_TR    Принят в ПВЗ   \n",
              "542390  28.02.2017 13:38  02.03.2017 0:00         3992600_TR       Доставлен   \n",
              "542420  28.02.2017 15:11  02.03.2017 0:00         3993859_TR       Доставлен   \n",
              "542421  28.02.2017 15:11  02.03.2017 0:00         3993859_TR       Доставлен   \n",
              "542422  28.02.2017 15:11  02.03.2017 0:00         3993859_TR       Доставлен   \n",
              "\n",
              "       СуммаЗаказаНаСайте СуммаДокумента МетодДоставки  ФормаОплаты  \\\n",
              "987                 1 394          1 394      Магазины  Безналичная   \n",
              "1004                1 394          1 394      Магазины  Безналичная   \n",
              "1612                  290              0    Курьерская     Наличная   \n",
              "2145                3 550          3 550      Магазины  Безналичная   \n",
              "2153                3 550          3 550      Магазины  Безналичная   \n",
              "...                   ...            ...           ...          ...   \n",
              "542267              2 150          2 150      Магазины  Безналичная   \n",
              "542390              3 319          3 319      Магазины  Безналичная   \n",
              "542420                861            861      Магазины  Безналичная   \n",
              "542421                861            861      Магазины  Безналичная   \n",
              "542422                861            861      Магазины  Безналичная   \n",
              "\n",
              "                                            Регион     Группа2  ...  \\\n",
              "987                                      Челябинск  ПОДГУЗНИКИ  ...   \n",
              "1004                                     Челябинск         NaN  ...   \n",
              "1612                                        Москва       ОБУВЬ  ...   \n",
              "2145    Железнодорожный (Московская область район)       ОБУВЬ  ...   \n",
              "2153    Железнодорожный (Московская область район)       ОБУВЬ  ...   \n",
              "...                                            ...         ...  ...   \n",
              "542267                                      Тюмень     ИГРУШКИ  ...   \n",
              "542390                                      Москва       ОБУВЬ  ...   \n",
              "542420                                      Москва     ИГРУШКИ  ...   \n",
              "542421                                      Москва     ИГРУШКИ  ...   \n",
              "542422                                      Москва     ИГРУШКИ  ...   \n",
              "\n",
              "       СуммаУслуг СуммаДоставки КоличествоПроданоКлиенту ДатаЗаказаНаСайте  \\\n",
              "987            99            99                        1   03.01.2017 0:00   \n",
              "1004           99            99                        1   03.01.2017 0:00   \n",
              "1612            0             0                        0   04.01.2017 0:00   \n",
              "2145            0             0                        0   05.01.2017 0:00   \n",
              "2153            0             0                        0   05.01.2017 0:00   \n",
              "...           ...           ...                      ...               ...   \n",
              "542267          0             0                        1   28.02.2017 0:00   \n",
              "542390          0             0                        1   28.02.2017 0:00   \n",
              "542420          0             0                        1   28.02.2017 0:00   \n",
              "542421          0             0                        1   28.02.2017 0:00   \n",
              "542422          0             0                        1   28.02.2017 0:00   \n",
              "\n",
              "       Телефон_new           ЭлектроннаяПочта_new     Клиент           ID_SKU  \\\n",
              "987              0            109117_mu18@mail.ru      Олеся   IDL00023647351   \n",
              "1004             0            109117_mu18@mail.ru      Олеся   IDL00017241351   \n",
              "1612             0        101117_eu24@workmail.ru  Захаркина   IDL00031332957   \n",
              "2145             0  guest_103117_gu28@workmail.ru      Гость  ID9010000744755   \n",
              "2153             0  guest_103117_gu28@workmail.ru      Гость   IDL00008268755   \n",
              "...            ...                            ...        ...              ...   \n",
              "542267           0             97117_au19@mail.ru       Алла   IDL00043255755   \n",
              "542390           0          101109_em24@gmail.com   Малышкин   IDL00035668048   \n",
              "542420           0           110117_nu18@detoc.ru    Куценко  ID000sm-2314452   \n",
              "542421           0           110117_nu18@detoc.ru    Куценко   IDL00008361351   \n",
              "542422           0           110117_nu18@detoc.ru    Куценко   IDL00008361351   \n",
              "\n",
              "       ГородМагазина МагазинЗаказа  \n",
              "987                0           NaN  \n",
              "1004               0           NaN  \n",
              "1612               0           NaN  \n",
              "2145               0           NaN  \n",
              "2153               0           NaN  \n",
              "...              ...           ...  \n",
              "542267             0           NaN  \n",
              "542390             0           NaN  \n",
              "542420             0           NaN  \n",
              "542421             0           NaN  \n",
              "542422             0           NaN  \n",
              "\n",
              "[4821 rows x 37 columns]"
            ],
            "text/html": [
              "\n",
              "  <div id=\"df-26da3b14-ee99-4bc6-b212-35a220484b29\" class=\"colab-df-container\">\n",
              "    <div>\n",
              "<style scoped>\n",
              "    .dataframe tbody tr th:only-of-type {\n",
              "        vertical-align: middle;\n",
              "    }\n",
              "\n",
              "    .dataframe tbody tr th {\n",
              "        vertical-align: top;\n",
              "    }\n",
              "\n",
              "    .dataframe thead th {\n",
              "        text-align: right;\n",
              "    }\n",
              "</style>\n",
              "<table border=\"1\" class=\"dataframe\">\n",
              "  <thead>\n",
              "    <tr style=\"text-align: right;\">\n",
              "      <th></th>\n",
              "      <th>Дата</th>\n",
              "      <th>ДатаДоставки</th>\n",
              "      <th>НомерЗаказаНаСайте</th>\n",
              "      <th>НовыйСтатус</th>\n",
              "      <th>СуммаЗаказаНаСайте</th>\n",
              "      <th>СуммаДокумента</th>\n",
              "      <th>МетодДоставки</th>\n",
              "      <th>ФормаОплаты</th>\n",
              "      <th>Регион</th>\n",
              "      <th>Группа2</th>\n",
              "      <th>...</th>\n",
              "      <th>СуммаУслуг</th>\n",
              "      <th>СуммаДоставки</th>\n",
              "      <th>КоличествоПроданоКлиенту</th>\n",
              "      <th>ДатаЗаказаНаСайте</th>\n",
              "      <th>Телефон_new</th>\n",
              "      <th>ЭлектроннаяПочта_new</th>\n",
              "      <th>Клиент</th>\n",
              "      <th>ID_SKU</th>\n",
              "      <th>ГородМагазина</th>\n",
              "      <th>МагазинЗаказа</th>\n",
              "    </tr>\n",
              "  </thead>\n",
              "  <tbody>\n",
              "    <tr>\n",
              "      <th>987</th>\n",
              "      <td>02.01.2017 16:12</td>\n",
              "      <td>13.01.2017 0:00</td>\n",
              "      <td>3532330_TR</td>\n",
              "      <td>Принят в ПВЗ</td>\n",
              "      <td>1 394</td>\n",
              "      <td>1 394</td>\n",
              "      <td>Магазины</td>\n",
              "      <td>Безналичная</td>\n",
              "      <td>Челябинск</td>\n",
              "      <td>ПОДГУЗНИКИ</td>\n",
              "      <td>...</td>\n",
              "      <td>99</td>\n",
              "      <td>99</td>\n",
              "      <td>1</td>\n",
              "      <td>03.01.2017 0:00</td>\n",
              "      <td>0</td>\n",
              "      <td>109117_mu18@mail.ru</td>\n",
              "      <td>Олеся</td>\n",
              "      <td>IDL00023647351</td>\n",
              "      <td>0</td>\n",
              "      <td>NaN</td>\n",
              "    </tr>\n",
              "    <tr>\n",
              "      <th>1004</th>\n",
              "      <td>02.01.2017 16:12</td>\n",
              "      <td>13.01.2017 0:00</td>\n",
              "      <td>3532330_TR</td>\n",
              "      <td>Принят в ПВЗ</td>\n",
              "      <td>1 394</td>\n",
              "      <td>1 394</td>\n",
              "      <td>Магазины</td>\n",
              "      <td>Безналичная</td>\n",
              "      <td>Челябинск</td>\n",
              "      <td>NaN</td>\n",
              "      <td>...</td>\n",
              "      <td>99</td>\n",
              "      <td>99</td>\n",
              "      <td>1</td>\n",
              "      <td>03.01.2017 0:00</td>\n",
              "      <td>0</td>\n",
              "      <td>109117_mu18@mail.ru</td>\n",
              "      <td>Олеся</td>\n",
              "      <td>IDL00017241351</td>\n",
              "      <td>0</td>\n",
              "      <td>NaN</td>\n",
              "    </tr>\n",
              "    <tr>\n",
              "      <th>1612</th>\n",
              "      <td>02.01.2017 17:13</td>\n",
              "      <td>04.01.2017 0:00</td>\n",
              "      <td>3533101_TR</td>\n",
              "      <td>Отменен</td>\n",
              "      <td>290</td>\n",
              "      <td>0</td>\n",
              "      <td>Курьерская</td>\n",
              "      <td>Наличная</td>\n",
              "      <td>Москва</td>\n",
              "      <td>ОБУВЬ</td>\n",
              "      <td>...</td>\n",
              "      <td>0</td>\n",
              "      <td>0</td>\n",
              "      <td>0</td>\n",
              "      <td>04.01.2017 0:00</td>\n",
              "      <td>0</td>\n",
              "      <td>101117_eu24@workmail.ru</td>\n",
              "      <td>Захаркина</td>\n",
              "      <td>IDL00031332957</td>\n",
              "      <td>0</td>\n",
              "      <td>NaN</td>\n",
              "    </tr>\n",
              "    <tr>\n",
              "      <th>2145</th>\n",
              "      <td>02.01.2017 17:34</td>\n",
              "      <td>04.01.2017 0:00</td>\n",
              "      <td>3530014_TR</td>\n",
              "      <td>Возврат из ПВЗ</td>\n",
              "      <td>3 550</td>\n",
              "      <td>3 550</td>\n",
              "      <td>Магазины</td>\n",
              "      <td>Безналичная</td>\n",
              "      <td>Железнодорожный (Московская область район)</td>\n",
              "      <td>ОБУВЬ</td>\n",
              "      <td>...</td>\n",
              "      <td>0</td>\n",
              "      <td>0</td>\n",
              "      <td>0</td>\n",
              "      <td>05.01.2017 0:00</td>\n",
              "      <td>0</td>\n",
              "      <td>guest_103117_gu28@workmail.ru</td>\n",
              "      <td>Гость</td>\n",
              "      <td>ID9010000744755</td>\n",
              "      <td>0</td>\n",
              "      <td>NaN</td>\n",
              "    </tr>\n",
              "    <tr>\n",
              "      <th>2153</th>\n",
              "      <td>02.01.2017 17:34</td>\n",
              "      <td>04.01.2017 0:00</td>\n",
              "      <td>3530014_TR</td>\n",
              "      <td>Возврат из ПВЗ</td>\n",
              "      <td>3 550</td>\n",
              "      <td>3 550</td>\n",
              "      <td>Магазины</td>\n",
              "      <td>Безналичная</td>\n",
              "      <td>Железнодорожный (Московская область район)</td>\n",
              "      <td>ОБУВЬ</td>\n",
              "      <td>...</td>\n",
              "      <td>0</td>\n",
              "      <td>0</td>\n",
              "      <td>0</td>\n",
              "      <td>05.01.2017 0:00</td>\n",
              "      <td>0</td>\n",
              "      <td>guest_103117_gu28@workmail.ru</td>\n",
              "      <td>Гость</td>\n",
              "      <td>IDL00008268755</td>\n",
              "      <td>0</td>\n",
              "      <td>NaN</td>\n",
              "    </tr>\n",
              "    <tr>\n",
              "      <th>...</th>\n",
              "      <td>...</td>\n",
              "      <td>...</td>\n",
              "      <td>...</td>\n",
              "      <td>...</td>\n",
              "      <td>...</td>\n",
              "      <td>...</td>\n",
              "      <td>...</td>\n",
              "      <td>...</td>\n",
              "      <td>...</td>\n",
              "      <td>...</td>\n",
              "      <td>...</td>\n",
              "      <td>...</td>\n",
              "      <td>...</td>\n",
              "      <td>...</td>\n",
              "      <td>...</td>\n",
              "      <td>...</td>\n",
              "      <td>...</td>\n",
              "      <td>...</td>\n",
              "      <td>...</td>\n",
              "      <td>...</td>\n",
              "      <td>...</td>\n",
              "    </tr>\n",
              "    <tr>\n",
              "      <th>542267</th>\n",
              "      <td>28.02.2017 15:23</td>\n",
              "      <td>16.03.2017 0:00</td>\n",
              "      <td>3993975_TR</td>\n",
              "      <td>Принят в ПВЗ</td>\n",
              "      <td>2 150</td>\n",
              "      <td>2 150</td>\n",
              "      <td>Магазины</td>\n",
              "      <td>Безналичная</td>\n",
              "      <td>Тюмень</td>\n",
              "      <td>ИГРУШКИ</td>\n",
              "      <td>...</td>\n",
              "      <td>0</td>\n",
              "      <td>0</td>\n",
              "      <td>1</td>\n",
              "      <td>28.02.2017 0:00</td>\n",
              "      <td>0</td>\n",
              "      <td>97117_au19@mail.ru</td>\n",
              "      <td>Алла</td>\n",
              "      <td>IDL00043255755</td>\n",
              "      <td>0</td>\n",
              "      <td>NaN</td>\n",
              "    </tr>\n",
              "    <tr>\n",
              "      <th>542390</th>\n",
              "      <td>28.02.2017 13:38</td>\n",
              "      <td>02.03.2017 0:00</td>\n",
              "      <td>3992600_TR</td>\n",
              "      <td>Доставлен</td>\n",
              "      <td>3 319</td>\n",
              "      <td>3 319</td>\n",
              "      <td>Магазины</td>\n",
              "      <td>Безналичная</td>\n",
              "      <td>Москва</td>\n",
              "      <td>ОБУВЬ</td>\n",
              "      <td>...</td>\n",
              "      <td>0</td>\n",
              "      <td>0</td>\n",
              "      <td>1</td>\n",
              "      <td>28.02.2017 0:00</td>\n",
              "      <td>0</td>\n",
              "      <td>101109_em24@gmail.com</td>\n",
              "      <td>Малышкин</td>\n",
              "      <td>IDL00035668048</td>\n",
              "      <td>0</td>\n",
              "      <td>NaN</td>\n",
              "    </tr>\n",
              "    <tr>\n",
              "      <th>542420</th>\n",
              "      <td>28.02.2017 15:11</td>\n",
              "      <td>02.03.2017 0:00</td>\n",
              "      <td>3993859_TR</td>\n",
              "      <td>Доставлен</td>\n",
              "      <td>861</td>\n",
              "      <td>861</td>\n",
              "      <td>Магазины</td>\n",
              "      <td>Безналичная</td>\n",
              "      <td>Москва</td>\n",
              "      <td>ИГРУШКИ</td>\n",
              "      <td>...</td>\n",
              "      <td>0</td>\n",
              "      <td>0</td>\n",
              "      <td>1</td>\n",
              "      <td>28.02.2017 0:00</td>\n",
              "      <td>0</td>\n",
              "      <td>110117_nu18@detoc.ru</td>\n",
              "      <td>Куценко</td>\n",
              "      <td>ID000sm-2314452</td>\n",
              "      <td>0</td>\n",
              "      <td>NaN</td>\n",
              "    </tr>\n",
              "    <tr>\n",
              "      <th>542421</th>\n",
              "      <td>28.02.2017 15:11</td>\n",
              "      <td>02.03.2017 0:00</td>\n",
              "      <td>3993859_TR</td>\n",
              "      <td>Доставлен</td>\n",
              "      <td>861</td>\n",
              "      <td>861</td>\n",
              "      <td>Магазины</td>\n",
              "      <td>Безналичная</td>\n",
              "      <td>Москва</td>\n",
              "      <td>ИГРУШКИ</td>\n",
              "      <td>...</td>\n",
              "      <td>0</td>\n",
              "      <td>0</td>\n",
              "      <td>1</td>\n",
              "      <td>28.02.2017 0:00</td>\n",
              "      <td>0</td>\n",
              "      <td>110117_nu18@detoc.ru</td>\n",
              "      <td>Куценко</td>\n",
              "      <td>IDL00008361351</td>\n",
              "      <td>0</td>\n",
              "      <td>NaN</td>\n",
              "    </tr>\n",
              "    <tr>\n",
              "      <th>542422</th>\n",
              "      <td>28.02.2017 15:11</td>\n",
              "      <td>02.03.2017 0:00</td>\n",
              "      <td>3993859_TR</td>\n",
              "      <td>Доставлен</td>\n",
              "      <td>861</td>\n",
              "      <td>861</td>\n",
              "      <td>Магазины</td>\n",
              "      <td>Безналичная</td>\n",
              "      <td>Москва</td>\n",
              "      <td>ИГРУШКИ</td>\n",
              "      <td>...</td>\n",
              "      <td>0</td>\n",
              "      <td>0</td>\n",
              "      <td>1</td>\n",
              "      <td>28.02.2017 0:00</td>\n",
              "      <td>0</td>\n",
              "      <td>110117_nu18@detoc.ru</td>\n",
              "      <td>Куценко</td>\n",
              "      <td>IDL00008361351</td>\n",
              "      <td>0</td>\n",
              "      <td>NaN</td>\n",
              "    </tr>\n",
              "  </tbody>\n",
              "</table>\n",
              "<p>4821 rows × 37 columns</p>\n",
              "</div>\n",
              "    <div class=\"colab-df-buttons\">\n",
              "\n",
              "  <div class=\"colab-df-container\">\n",
              "    <button class=\"colab-df-convert\" onclick=\"convertToInteractive('df-26da3b14-ee99-4bc6-b212-35a220484b29')\"\n",
              "            title=\"Convert this dataframe to an interactive table.\"\n",
              "            style=\"display:none;\">\n",
              "\n",
              "  <svg xmlns=\"http://www.w3.org/2000/svg\" height=\"24px\" viewBox=\"0 -960 960 960\">\n",
              "    <path d=\"M120-120v-720h720v720H120Zm60-500h600v-160H180v160Zm220 220h160v-160H400v160Zm0 220h160v-160H400v160ZM180-400h160v-160H180v160Zm440 0h160v-160H620v160ZM180-180h160v-160H180v160Zm440 0h160v-160H620v160Z\"/>\n",
              "  </svg>\n",
              "    </button>\n",
              "\n",
              "  <style>\n",
              "    .colab-df-container {\n",
              "      display:flex;\n",
              "      gap: 12px;\n",
              "    }\n",
              "\n",
              "    .colab-df-convert {\n",
              "      background-color: #E8F0FE;\n",
              "      border: none;\n",
              "      border-radius: 50%;\n",
              "      cursor: pointer;\n",
              "      display: none;\n",
              "      fill: #1967D2;\n",
              "      height: 32px;\n",
              "      padding: 0 0 0 0;\n",
              "      width: 32px;\n",
              "    }\n",
              "\n",
              "    .colab-df-convert:hover {\n",
              "      background-color: #E2EBFA;\n",
              "      box-shadow: 0px 1px 2px rgba(60, 64, 67, 0.3), 0px 1px 3px 1px rgba(60, 64, 67, 0.15);\n",
              "      fill: #174EA6;\n",
              "    }\n",
              "\n",
              "    .colab-df-buttons div {\n",
              "      margin-bottom: 4px;\n",
              "    }\n",
              "\n",
              "    [theme=dark] .colab-df-convert {\n",
              "      background-color: #3B4455;\n",
              "      fill: #D2E3FC;\n",
              "    }\n",
              "\n",
              "    [theme=dark] .colab-df-convert:hover {\n",
              "      background-color: #434B5C;\n",
              "      box-shadow: 0px 1px 3px 1px rgba(0, 0, 0, 0.15);\n",
              "      filter: drop-shadow(0px 1px 2px rgba(0, 0, 0, 0.3));\n",
              "      fill: #FFFFFF;\n",
              "    }\n",
              "  </style>\n",
              "\n",
              "    <script>\n",
              "      const buttonEl =\n",
              "        document.querySelector('#df-26da3b14-ee99-4bc6-b212-35a220484b29 button.colab-df-convert');\n",
              "      buttonEl.style.display =\n",
              "        google.colab.kernel.accessAllowed ? 'block' : 'none';\n",
              "\n",
              "      async function convertToInteractive(key) {\n",
              "        const element = document.querySelector('#df-26da3b14-ee99-4bc6-b212-35a220484b29');\n",
              "        const dataTable =\n",
              "          await google.colab.kernel.invokeFunction('convertToInteractive',\n",
              "                                                    [key], {});\n",
              "        if (!dataTable) return;\n",
              "\n",
              "        const docLinkHtml = 'Like what you see? Visit the ' +\n",
              "          '<a target=\"_blank\" href=https://colab.research.google.com/notebooks/data_table.ipynb>data table notebook</a>'\n",
              "          + ' to learn more about interactive tables.';\n",
              "        element.innerHTML = '';\n",
              "        dataTable['output_type'] = 'display_data';\n",
              "        await google.colab.output.renderOutput(dataTable, element);\n",
              "        const docLink = document.createElement('div');\n",
              "        docLink.innerHTML = docLinkHtml;\n",
              "        element.appendChild(docLink);\n",
              "      }\n",
              "    </script>\n",
              "  </div>\n",
              "\n",
              "\n",
              "<div id=\"df-6705f7cb-7b36-441b-a7a5-ff64a5c102bb\">\n",
              "  <button class=\"colab-df-quickchart\" onclick=\"quickchart('df-6705f7cb-7b36-441b-a7a5-ff64a5c102bb')\"\n",
              "            title=\"Suggest charts\"\n",
              "            style=\"display:none;\">\n",
              "\n",
              "<svg xmlns=\"http://www.w3.org/2000/svg\" height=\"24px\"viewBox=\"0 0 24 24\"\n",
              "     width=\"24px\">\n",
              "    <g>\n",
              "        <path d=\"M19 3H5c-1.1 0-2 .9-2 2v14c0 1.1.9 2 2 2h14c1.1 0 2-.9 2-2V5c0-1.1-.9-2-2-2zM9 17H7v-7h2v7zm4 0h-2V7h2v10zm4 0h-2v-4h2v4z\"/>\n",
              "    </g>\n",
              "</svg>\n",
              "  </button>\n",
              "\n",
              "<style>\n",
              "  .colab-df-quickchart {\n",
              "      --bg-color: #E8F0FE;\n",
              "      --fill-color: #1967D2;\n",
              "      --hover-bg-color: #E2EBFA;\n",
              "      --hover-fill-color: #174EA6;\n",
              "      --disabled-fill-color: #AAA;\n",
              "      --disabled-bg-color: #DDD;\n",
              "  }\n",
              "\n",
              "  [theme=dark] .colab-df-quickchart {\n",
              "      --bg-color: #3B4455;\n",
              "      --fill-color: #D2E3FC;\n",
              "      --hover-bg-color: #434B5C;\n",
              "      --hover-fill-color: #FFFFFF;\n",
              "      --disabled-bg-color: #3B4455;\n",
              "      --disabled-fill-color: #666;\n",
              "  }\n",
              "\n",
              "  .colab-df-quickchart {\n",
              "    background-color: var(--bg-color);\n",
              "    border: none;\n",
              "    border-radius: 50%;\n",
              "    cursor: pointer;\n",
              "    display: none;\n",
              "    fill: var(--fill-color);\n",
              "    height: 32px;\n",
              "    padding: 0;\n",
              "    width: 32px;\n",
              "  }\n",
              "\n",
              "  .colab-df-quickchart:hover {\n",
              "    background-color: var(--hover-bg-color);\n",
              "    box-shadow: 0 1px 2px rgba(60, 64, 67, 0.3), 0 1px 3px 1px rgba(60, 64, 67, 0.15);\n",
              "    fill: var(--button-hover-fill-color);\n",
              "  }\n",
              "\n",
              "  .colab-df-quickchart-complete:disabled,\n",
              "  .colab-df-quickchart-complete:disabled:hover {\n",
              "    background-color: var(--disabled-bg-color);\n",
              "    fill: var(--disabled-fill-color);\n",
              "    box-shadow: none;\n",
              "  }\n",
              "\n",
              "  .colab-df-spinner {\n",
              "    border: 2px solid var(--fill-color);\n",
              "    border-color: transparent;\n",
              "    border-bottom-color: var(--fill-color);\n",
              "    animation:\n",
              "      spin 1s steps(1) infinite;\n",
              "  }\n",
              "\n",
              "  @keyframes spin {\n",
              "    0% {\n",
              "      border-color: transparent;\n",
              "      border-bottom-color: var(--fill-color);\n",
              "      border-left-color: var(--fill-color);\n",
              "    }\n",
              "    20% {\n",
              "      border-color: transparent;\n",
              "      border-left-color: var(--fill-color);\n",
              "      border-top-color: var(--fill-color);\n",
              "    }\n",
              "    30% {\n",
              "      border-color: transparent;\n",
              "      border-left-color: var(--fill-color);\n",
              "      border-top-color: var(--fill-color);\n",
              "      border-right-color: var(--fill-color);\n",
              "    }\n",
              "    40% {\n",
              "      border-color: transparent;\n",
              "      border-right-color: var(--fill-color);\n",
              "      border-top-color: var(--fill-color);\n",
              "    }\n",
              "    60% {\n",
              "      border-color: transparent;\n",
              "      border-right-color: var(--fill-color);\n",
              "    }\n",
              "    80% {\n",
              "      border-color: transparent;\n",
              "      border-right-color: var(--fill-color);\n",
              "      border-bottom-color: var(--fill-color);\n",
              "    }\n",
              "    90% {\n",
              "      border-color: transparent;\n",
              "      border-bottom-color: var(--fill-color);\n",
              "    }\n",
              "  }\n",
              "</style>\n",
              "\n",
              "  <script>\n",
              "    async function quickchart(key) {\n",
              "      const quickchartButtonEl =\n",
              "        document.querySelector('#' + key + ' button');\n",
              "      quickchartButtonEl.disabled = true;  // To prevent multiple clicks.\n",
              "      quickchartButtonEl.classList.add('colab-df-spinner');\n",
              "      try {\n",
              "        const charts = await google.colab.kernel.invokeFunction(\n",
              "            'suggestCharts', [key], {});\n",
              "      } catch (error) {\n",
              "        console.error('Error during call to suggestCharts:', error);\n",
              "      }\n",
              "      quickchartButtonEl.classList.remove('colab-df-spinner');\n",
              "      quickchartButtonEl.classList.add('colab-df-quickchart-complete');\n",
              "    }\n",
              "    (() => {\n",
              "      let quickchartButtonEl =\n",
              "        document.querySelector('#df-6705f7cb-7b36-441b-a7a5-ff64a5c102bb button');\n",
              "      quickchartButtonEl.style.display =\n",
              "        google.colab.kernel.accessAllowed ? 'block' : 'none';\n",
              "    })();\n",
              "  </script>\n",
              "</div>\n",
              "    </div>\n",
              "  </div>\n"
            ],
            "application/vnd.google.colaboratory.intrinsic+json": {
              "type": "dataframe"
            }
          },
          "metadata": {},
          "execution_count": 13
        }
      ]
    },
    {
      "cell_type": "code",
      "source": [
        "df01_02_17=df01_02_17[~df01_02_17.Телефон_new.isin(df3.Телефон_new)]"
      ],
      "metadata": {
        "id": "vNh53bO0AS3F"
      },
      "execution_count": null,
      "outputs": []
    },
    {
      "cell_type": "code",
      "source": [
        "df01_02_17.info()"
      ],
      "metadata": {
        "colab": {
          "base_uri": "https://localhost:8080/"
        },
        "id": "I89b8Oc97sBk",
        "outputId": "ec67a4ff-ac10-4579-8169-2e7701de0f0e"
      },
      "execution_count": null,
      "outputs": [
        {
          "output_type": "stream",
          "name": "stdout",
          "text": [
            "<class 'pandas.core.frame.DataFrame'>\n",
            "Int64Index: 501342 entries, 0 to 542502\n",
            "Data columns (total 37 columns):\n",
            " #   Column                    Non-Null Count   Dtype \n",
            "---  ------                    --------------   ----- \n",
            " 0   Дата                      501342 non-null  object\n",
            " 1   ДатаДоставки              500956 non-null  object\n",
            " 2   НомерЗаказаНаСайте        501342 non-null  object\n",
            " 3   НовыйСтатус               501342 non-null  object\n",
            " 4   СуммаЗаказаНаСайте        501342 non-null  object\n",
            " 5   СуммаДокумента            501342 non-null  object\n",
            " 6   МетодДоставки             501342 non-null  object\n",
            " 7   ФормаОплаты               501339 non-null  object\n",
            " 8   Регион                    497265 non-null  object\n",
            " 9   Группа2                   456504 non-null  object\n",
            " 10  Группа3                   456504 non-null  object\n",
            " 11  Группа4                   433810 non-null  object\n",
            " 12  Тип                       501342 non-null  object\n",
            " 13  Номенклатура              501342 non-null  object\n",
            " 14  ТипТовара                 456504 non-null  object\n",
            " 15  Отменено                  501342 non-null  object\n",
            " 16  ПричинаОтмены             31558 non-null   object\n",
            " 17  Количество                501342 non-null  int64 \n",
            " 18  Цена                      501342 non-null  object\n",
            " 19  СуммаСтроки               501342 non-null  object\n",
            " 20  ЦенаЗакупки               453814 non-null  object\n",
            " 21  МесяцДаты Заказа          501342 non-null  int64 \n",
            " 22  ГодДатыЗаказа             501342 non-null  object\n",
            " 23  ПВЗ_код                   307155 non-null  object\n",
            " 24  Статус                    501342 non-null  object\n",
            " 25  Гео                       501342 non-null  object\n",
            " 26  Маржа                     453814 non-null  object\n",
            " 27  СуммаУслуг                501342 non-null  object\n",
            " 28  СуммаДоставки             501342 non-null  object\n",
            " 29  КоличествоПроданоКлиенту  501342 non-null  int64 \n",
            " 30  ДатаЗаказаНаСайте         501342 non-null  object\n",
            " 31  Телефон_new               501342 non-null  object\n",
            " 32  ЭлектроннаяПочта_new      491708 non-null  object\n",
            " 33  Клиент                    501242 non-null  object\n",
            " 34  ID_SKU                    501342 non-null  object\n",
            " 35  ГородМагазина             501342 non-null  object\n",
            " 36  МагазинЗаказа             3225 non-null    object\n",
            "dtypes: int64(3), object(34)\n",
            "memory usage: 145.3+ MB\n"
          ]
        }
      ]
    },
    {
      "cell_type": "code",
      "source": [
        "df01_02_17 = df01_02_17.rename(columns={'МесяцДаты Заказа': 'МесяцДатыЗаказа'})"
      ],
      "metadata": {
        "id": "lWSWxx5UEJ-U"
      },
      "execution_count": null,
      "outputs": []
    },
    {
      "cell_type": "code",
      "source": [
        "toys_df01_02_17 = df01_02_17[df01_02_17['Тип'] == 'ИГРУШКИ']"
      ],
      "metadata": {
        "id": "rHrrFv7cAS0v"
      },
      "execution_count": null,
      "outputs": []
    },
    {
      "cell_type": "code",
      "source": [
        "gr_toys_df01_02_17 = toys_df01_02_17[['Дата', 'СуммаСтроки']].copy()\n",
        "\n",
        "print(gr_toys_df01_02_17.head())"
      ],
      "metadata": {
        "colab": {
          "base_uri": "https://localhost:8080/"
        },
        "id": "1H1aYZfUASyH",
        "outputId": "920fa530-1de5-4755-a891-812e49777074"
      },
      "execution_count": null,
      "outputs": [
        {
          "output_type": "stream",
          "name": "stdout",
          "text": [
            "               Дата СуммаСтроки\n",
            "4  01.01.2017 17:38       1 069\n",
            "5  01.01.2017 17:38       6 858\n",
            "6  01.01.2017 17:38       6 858\n",
            "7  01.01.2017 17:38       6 858\n",
            "8  01.01.2017 17:38       6 858\n"
          ]
        }
      ]
    },
    {
      "cell_type": "code",
      "source": [
        "gr_toys_df01_02_17['Дата'] = pd.to_datetime(gr_toys_df01_02_17['Дата'], format='%d.%m.%Y %H:%M')\n",
        "gr_toys_df01_02_17['Дата'] = gr_toys_df01_02_17['Дата'].dt.strftime('%d.%m.%Y')\n",
        "\n",
        "print(gr_toys_df01_02_17)"
      ],
      "metadata": {
        "colab": {
          "base_uri": "https://localhost:8080/"
        },
        "id": "h_SqOCbMAb5b",
        "outputId": "770a6c10-c0a9-4fb1-bd9a-824aa56862e7"
      },
      "execution_count": null,
      "outputs": [
        {
          "output_type": "stream",
          "name": "stdout",
          "text": [
            "              Дата СуммаСтроки\n",
            "4       01.01.2017       1 069\n",
            "5       01.01.2017       6 858\n",
            "6       01.01.2017       6 858\n",
            "7       01.01.2017       6 858\n",
            "8       01.01.2017       6 858\n",
            "...            ...         ...\n",
            "542494  28.02.2017       2 772\n",
            "542495  28.02.2017       3 013\n",
            "542497  28.02.2017       2 146\n",
            "542498  28.02.2017       2 678\n",
            "542499  28.02.2017       1 249\n",
            "\n",
            "[126634 rows x 2 columns]\n"
          ]
        }
      ]
    },
    {
      "cell_type": "markdown",
      "source": [
        "03_04_17"
      ],
      "metadata": {
        "id": "xIYeN1aTBc3z"
      }
    },
    {
      "cell_type": "code",
      "source": [
        "# rar_archive = rarfile.RarFile('/content/drive/MyDrive/diploma/!03_04_17_VSE.rar')\n",
        "# extract_path = '/content/drive/MyDrive/diploma/'\n",
        "# rar_archive.extractall(extract_path)\n",
        "# rar_archive.close()"
      ],
      "metadata": {
        "id": "xeXKaMoDBkAR"
      },
      "execution_count": null,
      "outputs": []
    },
    {
      "cell_type": "code",
      "source": [
        "path = '/content/drive/MyDrive/diploma/!03_04_17_VSE.csv'\n",
        "df03_04_17=pd.read_csv(path,sep=';' , encoding = 'cp1251')"
      ],
      "metadata": {
        "id": "qA_65D-uBg3O"
      },
      "execution_count": null,
      "outputs": []
    },
    {
      "cell_type": "code",
      "source": [
        "df03_04_17 = df03_04_17[df03_04_17.Телефон_new != 0]\n",
        "df03_04_17 = df03_04_17[df03_04_17.Количество != 0]\n",
        "df03_04_17 = df03_04_17[df03_04_17.Цена != 0]\n",
        "df03_04_17 = df03_04_17[df03_04_17.ГородМагазина != 0]\n",
        "df03_04_17.drop(columns=['НомерСтроки'], inplace=True)"
      ],
      "metadata": {
        "id": "dcosgd0BDGrn"
      },
      "execution_count": null,
      "outputs": []
    },
    {
      "cell_type": "code",
      "source": [
        "df2 = df03_04_17.groupby('Телефон_new'). size().reset_index(name='count'). sort_values(['count'], ascending= False )\n",
        "df3 = df2[df2['count'] > 80]\n",
        "df03_04_17[df03_04_17.Телефон_new == '0']\n",
        "df03_04_17=df03_04_17[~df03_04_17.Телефон_new.isin(df3.Телефон_new)]"
      ],
      "metadata": {
        "id": "pFxC1aM7DGow"
      },
      "execution_count": null,
      "outputs": []
    },
    {
      "cell_type": "code",
      "source": [
        "df03_04_17.info()"
      ],
      "metadata": {
        "colab": {
          "base_uri": "https://localhost:8080/"
        },
        "id": "Dj1qApirD1Xi",
        "outputId": "942ff308-974e-4535-8445-68a5e03c0a13"
      },
      "execution_count": null,
      "outputs": [
        {
          "output_type": "stream",
          "name": "stdout",
          "text": [
            "<class 'pandas.core.frame.DataFrame'>\n",
            "Int64Index: 633967 entries, 0 to 691538\n",
            "Data columns (total 37 columns):\n",
            " #   Column                    Non-Null Count   Dtype \n",
            "---  ------                    --------------   ----- \n",
            " 0   Дата                      633967 non-null  object\n",
            " 1   ДатаДоставки              633479 non-null  object\n",
            " 2   НомерЗаказаНаСайте        633967 non-null  object\n",
            " 3   НовыйСтатус               633967 non-null  object\n",
            " 4   СуммаЗаказаНаСайте        633967 non-null  object\n",
            " 5   СуммаДокумента            633967 non-null  object\n",
            " 6   МетодДоставки             633967 non-null  object\n",
            " 7   ФормаОплаты               633967 non-null  object\n",
            " 8   Регион                    629020 non-null  object\n",
            " 9   Группа2                   561790 non-null  object\n",
            " 10  Группа3                   561790 non-null  object\n",
            " 11  Группа4                   533929 non-null  object\n",
            " 12  Тип                       633967 non-null  object\n",
            " 13  Номенклатура              633967 non-null  object\n",
            " 14  ТипТовара                 561790 non-null  object\n",
            " 15  Отменено                  633967 non-null  object\n",
            " 16  ПричинаОтмены             43842 non-null   object\n",
            " 17  Количество                633967 non-null  int64 \n",
            " 18  Цена                      633967 non-null  object\n",
            " 19  СуммаСтроки               633967 non-null  object\n",
            " 20  ЦенаЗакупки               559734 non-null  object\n",
            " 21  МесяцДатыЗаказа           633967 non-null  int64 \n",
            " 22  ГодДатыЗаказа             633967 non-null  object\n",
            " 23  ПВЗ_код                   425698 non-null  object\n",
            " 24  Статус                    633967 non-null  object\n",
            " 25  Гео                       633967 non-null  object\n",
            " 26  Маржа                     559734 non-null  object\n",
            " 27  СуммаУслуг                633967 non-null  object\n",
            " 28  СуммаДоставки             633967 non-null  object\n",
            " 29  КоличествоПроданоКлиенту  633967 non-null  int64 \n",
            " 30  ДатаЗаказаНаСайте         633967 non-null  object\n",
            " 31  Телефон_new               633967 non-null  object\n",
            " 32  ЭлектроннаяПочта_new      621509 non-null  object\n",
            " 33  Клиент                    633623 non-null  object\n",
            " 34  ID_SKU                    633967 non-null  object\n",
            " 35  ГородМагазина             633967 non-null  object\n",
            " 36  МагазинЗаказа             4812 non-null    object\n",
            "dtypes: int64(3), object(34)\n",
            "memory usage: 183.8+ MB\n"
          ]
        }
      ]
    },
    {
      "cell_type": "code",
      "source": [
        "toys_df03_04_17 = df03_04_17[df03_04_17['Тип'] == 'ИГРУШКИ']"
      ],
      "metadata": {
        "id": "miWryx4lDkrd"
      },
      "execution_count": null,
      "outputs": []
    },
    {
      "cell_type": "code",
      "source": [
        "gr_toys_df03_04_17 = toys_df03_04_17[['Дата', 'СуммаСтроки']].copy()\n",
        "\n",
        "print(gr_toys_df03_04_17.head())"
      ],
      "metadata": {
        "colab": {
          "base_uri": "https://localhost:8080/"
        },
        "id": "m8Pes-sNDowZ",
        "outputId": "98122c06-3223-4cf3-c7c4-87faa0e2c7b6"
      },
      "execution_count": null,
      "outputs": [
        {
          "output_type": "stream",
          "name": "stdout",
          "text": [
            "                Дата СуммаСтроки\n",
            "2   01.03.2017 12:31       3 325\n",
            "4   01.03.2017 11:38         199\n",
            "5   01.03.2017 12:19         719\n",
            "61  01.03.2017 16:33         529\n",
            "62  01.03.2017 16:33         299\n"
          ]
        }
      ]
    },
    {
      "cell_type": "code",
      "source": [
        "gr_toys_df03_04_17['Дата'] = pd.to_datetime(gr_toys_df03_04_17['Дата'], format='%d.%m.%Y %H:%M')\n",
        "gr_toys_df03_04_17['Дата'] = gr_toys_df03_04_17['Дата'].dt.strftime('%d.%m.%Y')\n",
        "print(gr_toys_df03_04_17)"
      ],
      "metadata": {
        "colab": {
          "base_uri": "https://localhost:8080/"
        },
        "id": "efFStb0jDq_o",
        "outputId": "f3f7829b-95d0-4483-9783-16af47a006c2"
      },
      "execution_count": null,
      "outputs": [
        {
          "output_type": "stream",
          "name": "stdout",
          "text": [
            "              Дата СуммаСтроки\n",
            "2       01.03.2017       3 325\n",
            "4       01.03.2017         199\n",
            "5       01.03.2017         719\n",
            "61      01.03.2017         529\n",
            "62      01.03.2017         299\n",
            "...            ...         ...\n",
            "691510  16.04.2017         409\n",
            "691520  16.04.2017         190\n",
            "691521  16.04.2017       1 390\n",
            "691535  17.04.2017         464\n",
            "691538  17.04.2017         318\n",
            "\n",
            "[138701 rows x 2 columns]\n"
          ]
        }
      ]
    },
    {
      "cell_type": "markdown",
      "source": [
        "05_06_17"
      ],
      "metadata": {
        "id": "RwyNrjwFEPmH"
      }
    },
    {
      "cell_type": "code",
      "source": [
        "# rar_archive = rarfile.RarFile('/content/drive/MyDrive/diploma/!05_06_17_VSE.rar')\n",
        "# extract_path = '/content/drive/MyDrive/diploma/'\n",
        "# rar_archive.extractall(extract_path)\n",
        "# rar_archive.close()"
      ],
      "metadata": {
        "id": "-Z0CFu6MESs-"
      },
      "execution_count": null,
      "outputs": []
    },
    {
      "cell_type": "code",
      "source": [
        "path = '/content/drive/MyDrive/diploma/!05_06_17_VSE.csv'\n",
        "df05_06_17=pd.read_csv(path,sep=';' , encoding = 'cp1251')"
      ],
      "metadata": {
        "id": "rVAWyoTnEgky"
      },
      "execution_count": null,
      "outputs": []
    },
    {
      "cell_type": "code",
      "source": [
        "df05_06_17 = df05_06_17[df05_06_17.Телефон_new != 0]\n",
        "df05_06_17 = df05_06_17[df05_06_17.Количество != 0]\n",
        "df05_06_17 = df05_06_17[df05_06_17.Цена != 0]\n",
        "df05_06_17 = df05_06_17[df05_06_17.ГородМагазина != 0]\n",
        "df05_06_17.drop(columns=['НомерСтроки'], inplace=True)"
      ],
      "metadata": {
        "id": "f570AZG2EhIQ"
      },
      "execution_count": null,
      "outputs": []
    },
    {
      "cell_type": "code",
      "source": [
        "df2 = df05_06_17.groupby('Телефон_new'). size().reset_index(name='count'). sort_values(['count'], ascending= False )\n",
        "df3 = df2[df2['count'] > 80]\n",
        "df05_06_17[df05_06_17.Телефон_new == '0']\n",
        "df05_06_17=df05_06_17[~df05_06_17.Телефон_new.isin(df3.Телефон_new)]"
      ],
      "metadata": {
        "id": "9j7KJWwUEhFr"
      },
      "execution_count": null,
      "outputs": []
    },
    {
      "cell_type": "code",
      "source": [
        "df05_06_17.info()"
      ],
      "metadata": {
        "colab": {
          "base_uri": "https://localhost:8080/"
        },
        "id": "aSTNYVUYD_TX",
        "outputId": "9d5b222e-df82-489e-e1bd-1d382720c7d2"
      },
      "execution_count": null,
      "outputs": [
        {
          "output_type": "stream",
          "name": "stdout",
          "text": [
            "<class 'pandas.core.frame.DataFrame'>\n",
            "Int64Index: 670452 entries, 0 to 730557\n",
            "Data columns (total 37 columns):\n",
            " #   Column                    Non-Null Count   Dtype \n",
            "---  ------                    --------------   ----- \n",
            " 0   Дата                      670452 non-null  object\n",
            " 1   ДатаДоставки              670069 non-null  object\n",
            " 2   НомерЗаказаНаСайте        670452 non-null  object\n",
            " 3   НовыйСтатус               670452 non-null  object\n",
            " 4   СуммаЗаказаНаСайте        670452 non-null  object\n",
            " 5   СуммаДокумента            670452 non-null  object\n",
            " 6   МетодДоставки             670450 non-null  object\n",
            " 7   ФормаОплаты               670450 non-null  object\n",
            " 8   Регион                    665400 non-null  object\n",
            " 9   Группа2                   573392 non-null  object\n",
            " 10  Группа3                   573392 non-null  object\n",
            " 11  Группа4                   547264 non-null  object\n",
            " 12  Тип                       670452 non-null  object\n",
            " 13  Номенклатура              670452 non-null  object\n",
            " 14  ТипТовара                 573392 non-null  object\n",
            " 15  Отменено                  670452 non-null  object\n",
            " 16  ПричинаОтмены             47637 non-null   object\n",
            " 17  Количество                670452 non-null  int64 \n",
            " 18  Цена                      670452 non-null  object\n",
            " 19  СуммаСтроки               670452 non-null  object\n",
            " 20  ЦенаЗакупки               570668 non-null  object\n",
            " 21  МесяцДатыЗаказа           670452 non-null  int64 \n",
            " 22  ГодДатыЗаказа             670452 non-null  object\n",
            " 23  ПВЗ_код                   479821 non-null  object\n",
            " 24  Статус                    670452 non-null  object\n",
            " 25  Гео                       670452 non-null  object\n",
            " 26  Маржа                     570668 non-null  object\n",
            " 27  СуммаУслуг                670452 non-null  object\n",
            " 28  СуммаДоставки             670452 non-null  object\n",
            " 29  КоличествоПроданоКлиенту  670452 non-null  int64 \n",
            " 30  ДатаЗаказаНаСайте         670452 non-null  object\n",
            " 31  Телефон_new               670452 non-null  object\n",
            " 32  ЭлектроннаяПочта_new      658436 non-null  object\n",
            " 33  Клиент                    670183 non-null  object\n",
            " 34  ID_SKU                    670452 non-null  object\n",
            " 35  ГородМагазина             670452 non-null  object\n",
            " 36  МагазинЗаказа             5049 non-null    object\n",
            "dtypes: int64(3), object(34)\n",
            "memory usage: 194.4+ MB\n"
          ]
        }
      ]
    },
    {
      "cell_type": "code",
      "source": [
        "toys_df05_06_17 = df05_06_17[df05_06_17['Тип'] == 'ИГРУШКИ']"
      ],
      "metadata": {
        "id": "gGZKO1rjEhDA"
      },
      "execution_count": null,
      "outputs": []
    },
    {
      "cell_type": "code",
      "source": [
        "gr_toys_df05_06_17 = toys_df05_06_17[['Дата', 'СуммаСтроки']].copy()\n",
        "\n",
        "print(gr_toys_df05_06_17.head())"
      ],
      "metadata": {
        "colab": {
          "base_uri": "https://localhost:8080/"
        },
        "id": "RK5MYgm-EgeM",
        "outputId": "cab087d3-3fc5-429f-b699-fdd807fc6962"
      },
      "execution_count": null,
      "outputs": [
        {
          "output_type": "stream",
          "name": "stdout",
          "text": [
            "                Дата СуммаСтроки\n",
            "8   01.05.2017 10:00         199\n",
            "21   01.05.2017 2:09         299\n",
            "22   01.05.2017 2:09         152\n",
            "23   01.05.2017 2:09         190\n",
            "24   01.05.2017 2:09         220\n"
          ]
        }
      ]
    },
    {
      "cell_type": "code",
      "source": [
        "gr_toys_df05_06_17['Дата'] = pd.to_datetime(gr_toys_df05_06_17['Дата'], format='%d.%m.%Y %H:%M')\n",
        "gr_toys_df05_06_17['Дата'] = gr_toys_df05_06_17['Дата'].dt.strftime('%d.%m.%Y')\n",
        "print(gr_toys_df05_06_17)"
      ],
      "metadata": {
        "colab": {
          "base_uri": "https://localhost:8080/"
        },
        "id": "g2fqnd04E1Qf",
        "outputId": "ad05b57d-88d1-43eb-b018-202583a94018"
      },
      "execution_count": null,
      "outputs": [
        {
          "output_type": "stream",
          "name": "stdout",
          "text": [
            "              Дата СуммаСтроки\n",
            "8       01.05.2017         199\n",
            "21      01.05.2017         299\n",
            "22      01.05.2017         152\n",
            "23      01.05.2017         190\n",
            "24      01.05.2017         220\n",
            "...            ...         ...\n",
            "730490  30.06.2017       1 350\n",
            "730533  30.06.2017         225\n",
            "730537  30.06.2017          90\n",
            "730541  30.06.2017      221,35\n",
            "730545  30.06.2017         330\n",
            "\n",
            "[131891 rows x 2 columns]\n"
          ]
        }
      ]
    },
    {
      "cell_type": "markdown",
      "source": [
        "07_08_17"
      ],
      "metadata": {
        "id": "2P_gkEhqFamp"
      }
    },
    {
      "cell_type": "code",
      "source": [
        "# rar_archive = rarfile.RarFile('/content/drive/MyDrive/diploma/!07_08_17_VSE.rar')\n",
        "# extract_path = '/content/drive/MyDrive/diploma/'\n",
        "# rar_archive.extractall(extract_path)\n",
        "# rar_archive.close()"
      ],
      "metadata": {
        "id": "Oynbbjj3Fd_i"
      },
      "execution_count": null,
      "outputs": []
    },
    {
      "cell_type": "code",
      "source": [
        "path = '/content/drive/MyDrive/diploma/!07_08_17_VSE.csv'\n",
        "df07_08_17=pd.read_csv(path,sep=';' , encoding = 'cp1251')"
      ],
      "metadata": {
        "id": "uFNxxKUeFj19"
      },
      "execution_count": null,
      "outputs": []
    },
    {
      "cell_type": "code",
      "source": [
        "df07_08_17 = df07_08_17[df07_08_17.Телефон_new != 0]\n",
        "df07_08_17 = df07_08_17[df07_08_17.Количество != 0]\n",
        "df07_08_17 = df07_08_17[df07_08_17.Цена != 0]\n",
        "df07_08_17 = df07_08_17[df07_08_17.ГородМагазина != 0]\n",
        "df07_08_17.drop(columns=['НомерСтроки'], inplace=True)"
      ],
      "metadata": {
        "id": "zw2vuWStFjzb"
      },
      "execution_count": null,
      "outputs": []
    },
    {
      "cell_type": "code",
      "source": [
        "df2 = df07_08_17.groupby('Телефон_new'). size().reset_index(name='count'). sort_values(['count'], ascending= False)\n",
        "df3 = df2[df2['count'] > 80]\n",
        "df07_08_17[df07_08_17.Телефон_new == '0']\n",
        "df07_08_17=df07_08_17[~df07_08_17.Телефон_new.isin(df3.Телефон_new)]"
      ],
      "metadata": {
        "id": "oDJE72qOFjww"
      },
      "execution_count": null,
      "outputs": []
    },
    {
      "cell_type": "code",
      "source": [
        "toys_df07_08_17 = df07_08_17[df07_08_17['Тип'] == 'ИГРУШКИ']"
      ],
      "metadata": {
        "id": "9qWY-4WsFjuI"
      },
      "execution_count": null,
      "outputs": []
    },
    {
      "cell_type": "code",
      "source": [
        "gr_toys_df07_08_17 = toys_df07_08_17[['Дата', 'СуммаСтроки']].copy()\n",
        "\n",
        "print(gr_toys_df07_08_17.head())"
      ],
      "metadata": {
        "colab": {
          "base_uri": "https://localhost:8080/"
        },
        "id": "OcV8axUUFoN_",
        "outputId": "1c7c93e7-fa12-4bfe-bc20-76a7952219af"
      },
      "execution_count": null,
      "outputs": [
        {
          "output_type": "stream",
          "name": "stdout",
          "text": [
            "                Дата СуммаСтроки\n",
            "29   01.07.2017 0:01       3 040\n",
            "42   01.07.2017 0:24       1 652\n",
            "74  01.07.2017 10:19       5 510\n",
            "77   01.07.2017 0:27       3 040\n",
            "84   01.07.2017 0:27       3 799\n"
          ]
        }
      ]
    },
    {
      "cell_type": "code",
      "source": [
        "gr_toys_df07_08_17['Дата'] = pd.to_datetime(gr_toys_df07_08_17['Дата'], format='%d.%m.%Y %H:%M')\n",
        "gr_toys_df07_08_17['Дата'] = gr_toys_df07_08_17['Дата'].dt.strftime('%d.%m.%Y')\n",
        "print(gr_toys_df07_08_17)"
      ],
      "metadata": {
        "colab": {
          "base_uri": "https://localhost:8080/"
        },
        "id": "clm4fvx0FoLa",
        "outputId": "ce5cc186-d6b7-44ca-dd6c-cce28b19f6c1"
      },
      "execution_count": null,
      "outputs": [
        {
          "output_type": "stream",
          "name": "stdout",
          "text": [
            "              Дата СуммаСтроки\n",
            "29      01.07.2017       3 040\n",
            "42      01.07.2017       1 652\n",
            "74      01.07.2017       5 510\n",
            "77      01.07.2017       3 040\n",
            "84      01.07.2017       3 799\n",
            "...            ...         ...\n",
            "797177  31.08.2017       1 670\n",
            "797180  31.08.2017       1 670\n",
            "797186  31.08.2017         129\n",
            "797189  31.08.2017          71\n",
            "797191  31.08.2017         449\n",
            "\n",
            "[140067 rows x 2 columns]\n"
          ]
        }
      ]
    },
    {
      "cell_type": "markdown",
      "source": [
        "09_10_17"
      ],
      "metadata": {
        "id": "Saqb1vYJGiuP"
      }
    },
    {
      "cell_type": "code",
      "source": [
        "path = '/content/drive/MyDrive/diploma/!09_10_17_VSE.csv'\n",
        "df09_10_17=pd.read_csv(path,sep=';' , encoding = 'cp1251')"
      ],
      "metadata": {
        "id": "IcG9_gjNKPOy"
      },
      "execution_count": null,
      "outputs": []
    },
    {
      "cell_type": "code",
      "source": [
        "df09_10_17 = df09_10_17[df09_10_17.Телефон_new != 0]\n",
        "df09_10_17 = df09_10_17[df09_10_17.Количество != 0]\n",
        "df09_10_17 = df09_10_17[df09_10_17.Цена != 0]\n",
        "df09_10_17 = df09_10_17[df09_10_17.ГородМагазина != 0]\n",
        "df09_10_17.drop(columns=['НомерСтроки'], inplace=True)"
      ],
      "metadata": {
        "id": "IcoC-XKjKPSE"
      },
      "execution_count": null,
      "outputs": []
    },
    {
      "cell_type": "code",
      "source": [
        "df2 = df09_10_17.groupby('Телефон_new'). size().reset_index(name='count'). sort_values(['count'], ascending= False )\n",
        "df3 = df2[df2['count'] > 80]\n",
        "df09_10_17[df09_10_17.Телефон_new == '0']\n",
        "df09_10_17=df09_10_17[~df09_10_17.Телефон_new.isin(df3.Телефон_new)]"
      ],
      "metadata": {
        "id": "-zNKhcMvKYjI"
      },
      "execution_count": null,
      "outputs": []
    },
    {
      "cell_type": "code",
      "source": [
        "toys_df09_10_17 = df09_10_17[df09_10_17['Тип'] == 'ИГРУШКИ']"
      ],
      "metadata": {
        "id": "Izj0OHpLKYgj"
      },
      "execution_count": null,
      "outputs": []
    },
    {
      "cell_type": "code",
      "source": [
        "gr_toys_df09_10_17 = toys_df09_10_17[['Дата', 'СуммаСтроки']].copy()\n",
        "\n",
        "print(gr_toys_df09_10_17.head())"
      ],
      "metadata": {
        "colab": {
          "base_uri": "https://localhost:8080/"
        },
        "id": "Kuk-jO1EKYd_",
        "outputId": "ad023cc6-b93e-413a-843a-95eb051300fb"
      },
      "execution_count": null,
      "outputs": [
        {
          "output_type": "stream",
          "name": "stdout",
          "text": [
            "               Дата СуммаСтроки\n",
            "1  01.09.2017 11:34       1 382\n",
            "2  01.09.2017 11:34         843\n",
            "3  01.09.2017 11:34         239\n",
            "5   01.09.2017 0:05       2 495\n",
            "6   01.09.2017 0:05       1 969\n"
          ]
        }
      ]
    },
    {
      "cell_type": "code",
      "source": [
        "gr_toys_df09_10_17['Дата'] = pd.to_datetime(gr_toys_df09_10_17['Дата'], format='%d.%m.%Y %H:%M')\n",
        "gr_toys_df09_10_17['Дата'] = gr_toys_df09_10_17['Дата'].dt.strftime('%d.%m.%Y')\n",
        "\n",
        "print(gr_toys_df09_10_17)"
      ],
      "metadata": {
        "colab": {
          "base_uri": "https://localhost:8080/"
        },
        "id": "-sgHVMP8KYa8",
        "outputId": "d480e019-7210-4cff-8363-5a859ebc1261"
      },
      "execution_count": null,
      "outputs": [
        {
          "output_type": "stream",
          "name": "stdout",
          "text": [
            "              Дата СуммаСтроки\n",
            "1       01.09.2017       1 382\n",
            "2       01.09.2017         843\n",
            "3       01.09.2017         239\n",
            "5       01.09.2017       2 495\n",
            "6       01.09.2017       1 969\n",
            "...            ...         ...\n",
            "876058  31.10.2017       1 339\n",
            "876064  31.10.2017         165\n",
            "876065  31.10.2017       1 892\n",
            "876072  31.10.2017       2 564\n",
            "876073  31.10.2017       2 564\n",
            "\n",
            "[164311 rows x 2 columns]\n"
          ]
        }
      ]
    },
    {
      "cell_type": "markdown",
      "source": [
        "11_17"
      ],
      "metadata": {
        "id": "n2o_iV8HK-Yg"
      }
    },
    {
      "cell_type": "code",
      "source": [
        "path = '/content/drive/MyDrive/diploma/!11_17_VSE.csv'\n",
        "df11_17=pd.read_csv(path,sep=';' , encoding = 'cp1251')"
      ],
      "metadata": {
        "colab": {
          "base_uri": "https://localhost:8080/"
        },
        "id": "z62ZOfaNLBpT",
        "outputId": "ff000f38-d7ad-4c82-c3af-4f38090fb1f1"
      },
      "execution_count": null,
      "outputs": [
        {
          "output_type": "stream",
          "name": "stderr",
          "text": [
            "<ipython-input-51-5fa2e7f72981>:2: DtypeWarning: Columns (27,28,32,33,34,35,36,37) have mixed types. Specify dtype option on import or set low_memory=False.\n",
            "  df11_17=pd.read_csv(path,sep=';' , encoding = 'cp1251')\n"
          ]
        }
      ]
    },
    {
      "cell_type": "code",
      "source": [
        "df11_17 = df11_17[df11_17.Телефон_new != 0]\n",
        "df11_17 = df11_17[df11_17.Количество != 0]\n",
        "df11_17 = df11_17[df11_17.Цена != 0]\n",
        "df11_17 = df11_17[df11_17.ГородМагазина != 0]\n",
        "df11_17.drop(columns=['НомерСтроки'], inplace=True)"
      ],
      "metadata": {
        "id": "6ImguVJNLFif"
      },
      "execution_count": null,
      "outputs": []
    },
    {
      "cell_type": "code",
      "source": [
        "df2 = df11_17.groupby('Телефон_new'). size().reset_index(name='count'). sort_values(['count'], ascending= False )\n",
        "df3 = df2[df2['count'] > 80]\n",
        "df11_17[df11_17.Телефон_new == '0']\n",
        "df11_17=df11_17[~df11_17.Телефон_new.isin(df3.Телефон_new)]"
      ],
      "metadata": {
        "id": "At-iZpPnLFd3"
      },
      "execution_count": null,
      "outputs": []
    },
    {
      "cell_type": "code",
      "source": [
        "toys_df11_17 = df11_17[df11_17['Тип'] == 'ИГРУШКИ']"
      ],
      "metadata": {
        "id": "2a2IKORiLFbp"
      },
      "execution_count": null,
      "outputs": []
    },
    {
      "cell_type": "code",
      "source": [
        "gr_toys_df11_17 = toys_df11_17[['Дата', 'СуммаСтроки']].copy()\n",
        "\n",
        "print(gr_toys_df11_17.head())"
      ],
      "metadata": {
        "colab": {
          "base_uri": "https://localhost:8080/"
        },
        "id": "Ny7k9FtTLFY0",
        "outputId": "5fb1c499-7ea2-490d-b611-7381ae1416ca"
      },
      "execution_count": null,
      "outputs": [
        {
          "output_type": "stream",
          "name": "stdout",
          "text": [
            "               Дата СуммаСтроки\n",
            "11  01.11.2017 0:12       7 010\n",
            "19  01.11.2017 0:12          36\n",
            "22  01.11.2017 0:12          61\n",
            "32  01.11.2017 0:12       1 199\n",
            "53  01.11.2017 0:12         152\n"
          ]
        }
      ]
    },
    {
      "cell_type": "code",
      "source": [
        "gr_toys_df11_17['Дата'] = pd.to_datetime(gr_toys_df11_17['Дата'], format='%d.%m.%Y %H:%M')\n",
        "gr_toys_df11_17['Дата'] = gr_toys_df11_17['Дата'].dt.strftime('%d.%m.%Y')\n",
        "\n",
        "print(gr_toys_df11_17)"
      ],
      "metadata": {
        "colab": {
          "base_uri": "https://localhost:8080/"
        },
        "id": "m5acYV6pLLPN",
        "outputId": "3bd965c4-5354-4be3-f57a-202f1d80ef41"
      },
      "execution_count": null,
      "outputs": [
        {
          "output_type": "stream",
          "name": "stdout",
          "text": [
            "              Дата СуммаСтроки\n",
            "11      01.11.2017       7 010\n",
            "19      01.11.2017          36\n",
            "22      01.11.2017          61\n",
            "32      01.11.2017       1 199\n",
            "53      01.11.2017         152\n",
            "...            ...         ...\n",
            "557041  30.11.2017         239\n",
            "557044  30.11.2017         161\n",
            "557045  30.11.2017         259\n",
            "557047  30.11.2017          49\n",
            "557049  30.11.2017          20\n",
            "\n",
            "[152993 rows x 2 columns]\n"
          ]
        }
      ]
    },
    {
      "cell_type": "markdown",
      "source": [
        "12_17"
      ],
      "metadata": {
        "id": "k_h6OzMKLwAw"
      }
    },
    {
      "cell_type": "code",
      "source": [
        "path = '/content/drive/MyDrive/diploma/!12_17_VSE.csv'\n",
        "df12_17=pd.read_csv(path,sep='\\t' , encoding = 'cp1251')"
      ],
      "metadata": {
        "colab": {
          "base_uri": "https://localhost:8080/"
        },
        "id": "izHXXveuLwyL",
        "outputId": "3fd9b301-2f33-4056-89d3-e4e9a31f7819"
      },
      "execution_count": null,
      "outputs": [
        {
          "output_type": "stream",
          "name": "stderr",
          "text": [
            "<ipython-input-57-c0346dc073ff>:2: DtypeWarning: Columns (32,33,34,35,36) have mixed types. Specify dtype option on import or set low_memory=False.\n",
            "  df12_17=pd.read_csv(path,sep='\\t' , encoding = 'cp1251')\n"
          ]
        }
      ]
    },
    {
      "cell_type": "code",
      "source": [
        "df12_17"
      ],
      "metadata": {
        "colab": {
          "base_uri": "https://localhost:8080/",
          "height": 761
        },
        "id": "PlInTnmgMObd",
        "outputId": "ca23652d-94f5-4439-a576-a566f941a6b0"
      },
      "execution_count": null,
      "outputs": [
        {
          "output_type": "execute_result",
          "data": {
            "text/plain": [
              "                    Дата     ДатаДоставки НомерЗаказаНаСайте НовыйСтатус  \\\n",
              "0        01.12.2017 0:25  07.12.2017 0:00         6434318_TR   Доставлен   \n",
              "1        01.12.2017 0:25  07.12.2017 0:00         6434318_TR   Доставлен   \n",
              "2        01.12.2017 0:25  07.12.2017 0:00         6434318_TR   Доставлен   \n",
              "3        01.12.2017 0:25  07.12.2017 0:00         6434318_TR   Доставлен   \n",
              "4        01.12.2017 0:25  07.12.2017 0:00         6434318_TR   Доставлен   \n",
              "...                  ...              ...                ...         ...   \n",
              "626609  31.12.2017 23:56  13.01.2018 0:00         6945534_TR   Доставлен   \n",
              "626610  31.12.2017 23:59  13.01.2018 0:00         6945524_TR   Доставлен   \n",
              "626611  31.12.2017 23:59  13.01.2018 0:00         6945524_TR   Доставлен   \n",
              "626612  31.12.2017 23:59  04.01.2018 0:00         6945526_TR     Отменен   \n",
              "626613  31.12.2017 23:59  04.01.2018 0:00         6945526_TR     Отменен   \n",
              "\n",
              "       СуммаЗаказаНаСайте СуммаДокумента МетодДоставки  ФормаОплаты  \\\n",
              "0                     867            748      Магазины  Безналичная   \n",
              "1                     867            748      Магазины  Безналичная   \n",
              "2                     867            748      Магазины  Безналичная   \n",
              "3                     867            748      Магазины  Безналичная   \n",
              "4                     867            748      Магазины  Безналичная   \n",
              "...                   ...            ...           ...          ...   \n",
              "626609                971            971      Магазины  Безналичная   \n",
              "626610              1 179          1 179      Магазины  Безналичная   \n",
              "626611              1 179          1 179      Магазины  Безналичная   \n",
              "626612              7 049            150    Курьерская     Наличная   \n",
              "626613              7 049            150    Курьерская     Наличная   \n",
              "\n",
              "                                      Регион                   Группа2  ...  \\\n",
              "0       Жуковский (Московская область район)                       NaN  ...   \n",
              "1       Жуковский (Московская область район)                   ИГРУШКИ  ...   \n",
              "2       Жуковский (Московская область район)                   ИГРУШКИ  ...   \n",
              "3       Жуковский (Московская область район)                   ИГРУШКИ  ...   \n",
              "4       Жуковский (Московская область район)  КАНЦТОВАРЫ, КНИГИ, ДИСКИ  ...   \n",
              "...                                      ...                       ...  ...   \n",
              "626609                                Самара                       NaN  ...   \n",
              "626610                              Белгород                       NaN  ...   \n",
              "626611                              Белгород                   ИГРУШКИ  ...   \n",
              "626612                                Москва                       NaN  ...   \n",
              "626613                                Москва        ТЕКСТИЛЬ, ТРИКОТАЖ  ...   \n",
              "\n",
              "       СуммаДоставки НомерСтроки КоличествоПроданоКлиенту ДатаЗаказаНаСайте  \\\n",
              "0                 49           1                        1   30.11.2017 0:00   \n",
              "1                 49           2                        1   30.11.2017 0:00   \n",
              "2                 49           1                        1   30.11.2017 0:00   \n",
              "3                 49           5                        1   30.11.2017 0:00   \n",
              "4                 49           3                        1   30.11.2017 0:00   \n",
              "...              ...         ...                      ...               ...   \n",
              "626609            99           1                        0   31.12.2017 0:00   \n",
              "626610            99           1                        0   31.12.2017 0:00   \n",
              "626611            99           1                        0   31.12.2017 0:00   \n",
              "626612           150           1                        0   31.12.2017 0:00   \n",
              "626613           150           1                        0   31.12.2017 0:00   \n",
              "\n",
              "                    Телефон_new ЭлектроннаяПочта_new Клиент          ID_SKU  \\\n",
              "0       55574954-51545354525272  105117_iu23@mail.ru   Юлия   ID10022107250   \n",
              "1       55574954-51545354525272  105117_iu23@mail.ru   Юлия  IDL00038555452   \n",
              "2       55574954-51545354525272  105117_iu23@mail.ru   Юлия  IDL00043421250   \n",
              "3       55574954-51545354525272  105117_iu23@mail.ru   Юлия  IDL00051051048   \n",
              "4       55574954-51545354525272  105117_iu23@mail.ru   Юлия  IDL00056856048   \n",
              "...                         ...                  ...    ...             ...   \n",
              "626609                      NaN                  NaN    NaN             NaN   \n",
              "626610                      NaN                  NaN    NaN             NaN   \n",
              "626611                      NaN                  NaN    NaN             NaN   \n",
              "626612                      NaN                  NaN    NaN             NaN   \n",
              "626613                      NaN                  NaN    NaN             NaN   \n",
              "\n",
              "       ГородМагазина МагазинЗаказа  \n",
              "0                  0           NaN  \n",
              "1                  0           NaN  \n",
              "2                  0           NaN  \n",
              "3                  0           NaN  \n",
              "4                  0           NaN  \n",
              "...              ...           ...  \n",
              "626609           NaN           NaN  \n",
              "626610           NaN           NaN  \n",
              "626611           NaN           NaN  \n",
              "626612           NaN           NaN  \n",
              "626613           NaN           NaN  \n",
              "\n",
              "[626614 rows x 38 columns]"
            ],
            "text/html": [
              "\n",
              "  <div id=\"df-7d6841a3-837f-44b3-ba2a-ea564b5a180b\" class=\"colab-df-container\">\n",
              "    <div>\n",
              "<style scoped>\n",
              "    .dataframe tbody tr th:only-of-type {\n",
              "        vertical-align: middle;\n",
              "    }\n",
              "\n",
              "    .dataframe tbody tr th {\n",
              "        vertical-align: top;\n",
              "    }\n",
              "\n",
              "    .dataframe thead th {\n",
              "        text-align: right;\n",
              "    }\n",
              "</style>\n",
              "<table border=\"1\" class=\"dataframe\">\n",
              "  <thead>\n",
              "    <tr style=\"text-align: right;\">\n",
              "      <th></th>\n",
              "      <th>Дата</th>\n",
              "      <th>ДатаДоставки</th>\n",
              "      <th>НомерЗаказаНаСайте</th>\n",
              "      <th>НовыйСтатус</th>\n",
              "      <th>СуммаЗаказаНаСайте</th>\n",
              "      <th>СуммаДокумента</th>\n",
              "      <th>МетодДоставки</th>\n",
              "      <th>ФормаОплаты</th>\n",
              "      <th>Регион</th>\n",
              "      <th>Группа2</th>\n",
              "      <th>...</th>\n",
              "      <th>СуммаДоставки</th>\n",
              "      <th>НомерСтроки</th>\n",
              "      <th>КоличествоПроданоКлиенту</th>\n",
              "      <th>ДатаЗаказаНаСайте</th>\n",
              "      <th>Телефон_new</th>\n",
              "      <th>ЭлектроннаяПочта_new</th>\n",
              "      <th>Клиент</th>\n",
              "      <th>ID_SKU</th>\n",
              "      <th>ГородМагазина</th>\n",
              "      <th>МагазинЗаказа</th>\n",
              "    </tr>\n",
              "  </thead>\n",
              "  <tbody>\n",
              "    <tr>\n",
              "      <th>0</th>\n",
              "      <td>01.12.2017 0:25</td>\n",
              "      <td>07.12.2017 0:00</td>\n",
              "      <td>6434318_TR</td>\n",
              "      <td>Доставлен</td>\n",
              "      <td>867</td>\n",
              "      <td>748</td>\n",
              "      <td>Магазины</td>\n",
              "      <td>Безналичная</td>\n",
              "      <td>Жуковский (Московская область район)</td>\n",
              "      <td>NaN</td>\n",
              "      <td>...</td>\n",
              "      <td>49</td>\n",
              "      <td>1</td>\n",
              "      <td>1</td>\n",
              "      <td>30.11.2017 0:00</td>\n",
              "      <td>55574954-51545354525272</td>\n",
              "      <td>105117_iu23@mail.ru</td>\n",
              "      <td>Юлия</td>\n",
              "      <td>ID10022107250</td>\n",
              "      <td>0</td>\n",
              "      <td>NaN</td>\n",
              "    </tr>\n",
              "    <tr>\n",
              "      <th>1</th>\n",
              "      <td>01.12.2017 0:25</td>\n",
              "      <td>07.12.2017 0:00</td>\n",
              "      <td>6434318_TR</td>\n",
              "      <td>Доставлен</td>\n",
              "      <td>867</td>\n",
              "      <td>748</td>\n",
              "      <td>Магазины</td>\n",
              "      <td>Безналичная</td>\n",
              "      <td>Жуковский (Московская область район)</td>\n",
              "      <td>ИГРУШКИ</td>\n",
              "      <td>...</td>\n",
              "      <td>49</td>\n",
              "      <td>2</td>\n",
              "      <td>1</td>\n",
              "      <td>30.11.2017 0:00</td>\n",
              "      <td>55574954-51545354525272</td>\n",
              "      <td>105117_iu23@mail.ru</td>\n",
              "      <td>Юлия</td>\n",
              "      <td>IDL00038555452</td>\n",
              "      <td>0</td>\n",
              "      <td>NaN</td>\n",
              "    </tr>\n",
              "    <tr>\n",
              "      <th>2</th>\n",
              "      <td>01.12.2017 0:25</td>\n",
              "      <td>07.12.2017 0:00</td>\n",
              "      <td>6434318_TR</td>\n",
              "      <td>Доставлен</td>\n",
              "      <td>867</td>\n",
              "      <td>748</td>\n",
              "      <td>Магазины</td>\n",
              "      <td>Безналичная</td>\n",
              "      <td>Жуковский (Московская область район)</td>\n",
              "      <td>ИГРУШКИ</td>\n",
              "      <td>...</td>\n",
              "      <td>49</td>\n",
              "      <td>1</td>\n",
              "      <td>1</td>\n",
              "      <td>30.11.2017 0:00</td>\n",
              "      <td>55574954-51545354525272</td>\n",
              "      <td>105117_iu23@mail.ru</td>\n",
              "      <td>Юлия</td>\n",
              "      <td>IDL00043421250</td>\n",
              "      <td>0</td>\n",
              "      <td>NaN</td>\n",
              "    </tr>\n",
              "    <tr>\n",
              "      <th>3</th>\n",
              "      <td>01.12.2017 0:25</td>\n",
              "      <td>07.12.2017 0:00</td>\n",
              "      <td>6434318_TR</td>\n",
              "      <td>Доставлен</td>\n",
              "      <td>867</td>\n",
              "      <td>748</td>\n",
              "      <td>Магазины</td>\n",
              "      <td>Безналичная</td>\n",
              "      <td>Жуковский (Московская область район)</td>\n",
              "      <td>ИГРУШКИ</td>\n",
              "      <td>...</td>\n",
              "      <td>49</td>\n",
              "      <td>5</td>\n",
              "      <td>1</td>\n",
              "      <td>30.11.2017 0:00</td>\n",
              "      <td>55574954-51545354525272</td>\n",
              "      <td>105117_iu23@mail.ru</td>\n",
              "      <td>Юлия</td>\n",
              "      <td>IDL00051051048</td>\n",
              "      <td>0</td>\n",
              "      <td>NaN</td>\n",
              "    </tr>\n",
              "    <tr>\n",
              "      <th>4</th>\n",
              "      <td>01.12.2017 0:25</td>\n",
              "      <td>07.12.2017 0:00</td>\n",
              "      <td>6434318_TR</td>\n",
              "      <td>Доставлен</td>\n",
              "      <td>867</td>\n",
              "      <td>748</td>\n",
              "      <td>Магазины</td>\n",
              "      <td>Безналичная</td>\n",
              "      <td>Жуковский (Московская область район)</td>\n",
              "      <td>КАНЦТОВАРЫ, КНИГИ, ДИСКИ</td>\n",
              "      <td>...</td>\n",
              "      <td>49</td>\n",
              "      <td>3</td>\n",
              "      <td>1</td>\n",
              "      <td>30.11.2017 0:00</td>\n",
              "      <td>55574954-51545354525272</td>\n",
              "      <td>105117_iu23@mail.ru</td>\n",
              "      <td>Юлия</td>\n",
              "      <td>IDL00056856048</td>\n",
              "      <td>0</td>\n",
              "      <td>NaN</td>\n",
              "    </tr>\n",
              "    <tr>\n",
              "      <th>...</th>\n",
              "      <td>...</td>\n",
              "      <td>...</td>\n",
              "      <td>...</td>\n",
              "      <td>...</td>\n",
              "      <td>...</td>\n",
              "      <td>...</td>\n",
              "      <td>...</td>\n",
              "      <td>...</td>\n",
              "      <td>...</td>\n",
              "      <td>...</td>\n",
              "      <td>...</td>\n",
              "      <td>...</td>\n",
              "      <td>...</td>\n",
              "      <td>...</td>\n",
              "      <td>...</td>\n",
              "      <td>...</td>\n",
              "      <td>...</td>\n",
              "      <td>...</td>\n",
              "      <td>...</td>\n",
              "      <td>...</td>\n",
              "      <td>...</td>\n",
              "    </tr>\n",
              "    <tr>\n",
              "      <th>626609</th>\n",
              "      <td>31.12.2017 23:56</td>\n",
              "      <td>13.01.2018 0:00</td>\n",
              "      <td>6945534_TR</td>\n",
              "      <td>Доставлен</td>\n",
              "      <td>971</td>\n",
              "      <td>971</td>\n",
              "      <td>Магазины</td>\n",
              "      <td>Безналичная</td>\n",
              "      <td>Самара</td>\n",
              "      <td>NaN</td>\n",
              "      <td>...</td>\n",
              "      <td>99</td>\n",
              "      <td>1</td>\n",
              "      <td>0</td>\n",
              "      <td>31.12.2017 0:00</td>\n",
              "      <td>NaN</td>\n",
              "      <td>NaN</td>\n",
              "      <td>NaN</td>\n",
              "      <td>NaN</td>\n",
              "      <td>NaN</td>\n",
              "      <td>NaN</td>\n",
              "    </tr>\n",
              "    <tr>\n",
              "      <th>626610</th>\n",
              "      <td>31.12.2017 23:59</td>\n",
              "      <td>13.01.2018 0:00</td>\n",
              "      <td>6945524_TR</td>\n",
              "      <td>Доставлен</td>\n",
              "      <td>1 179</td>\n",
              "      <td>1 179</td>\n",
              "      <td>Магазины</td>\n",
              "      <td>Безналичная</td>\n",
              "      <td>Белгород</td>\n",
              "      <td>NaN</td>\n",
              "      <td>...</td>\n",
              "      <td>99</td>\n",
              "      <td>1</td>\n",
              "      <td>0</td>\n",
              "      <td>31.12.2017 0:00</td>\n",
              "      <td>NaN</td>\n",
              "      <td>NaN</td>\n",
              "      <td>NaN</td>\n",
              "      <td>NaN</td>\n",
              "      <td>NaN</td>\n",
              "      <td>NaN</td>\n",
              "    </tr>\n",
              "    <tr>\n",
              "      <th>626611</th>\n",
              "      <td>31.12.2017 23:59</td>\n",
              "      <td>13.01.2018 0:00</td>\n",
              "      <td>6945524_TR</td>\n",
              "      <td>Доставлен</td>\n",
              "      <td>1 179</td>\n",
              "      <td>1 179</td>\n",
              "      <td>Магазины</td>\n",
              "      <td>Безналичная</td>\n",
              "      <td>Белгород</td>\n",
              "      <td>ИГРУШКИ</td>\n",
              "      <td>...</td>\n",
              "      <td>99</td>\n",
              "      <td>1</td>\n",
              "      <td>0</td>\n",
              "      <td>31.12.2017 0:00</td>\n",
              "      <td>NaN</td>\n",
              "      <td>NaN</td>\n",
              "      <td>NaN</td>\n",
              "      <td>NaN</td>\n",
              "      <td>NaN</td>\n",
              "      <td>NaN</td>\n",
              "    </tr>\n",
              "    <tr>\n",
              "      <th>626612</th>\n",
              "      <td>31.12.2017 23:59</td>\n",
              "      <td>04.01.2018 0:00</td>\n",
              "      <td>6945526_TR</td>\n",
              "      <td>Отменен</td>\n",
              "      <td>7 049</td>\n",
              "      <td>150</td>\n",
              "      <td>Курьерская</td>\n",
              "      <td>Наличная</td>\n",
              "      <td>Москва</td>\n",
              "      <td>NaN</td>\n",
              "      <td>...</td>\n",
              "      <td>150</td>\n",
              "      <td>1</td>\n",
              "      <td>0</td>\n",
              "      <td>31.12.2017 0:00</td>\n",
              "      <td>NaN</td>\n",
              "      <td>NaN</td>\n",
              "      <td>NaN</td>\n",
              "      <td>NaN</td>\n",
              "      <td>NaN</td>\n",
              "      <td>NaN</td>\n",
              "    </tr>\n",
              "    <tr>\n",
              "      <th>626613</th>\n",
              "      <td>31.12.2017 23:59</td>\n",
              "      <td>04.01.2018 0:00</td>\n",
              "      <td>6945526_TR</td>\n",
              "      <td>Отменен</td>\n",
              "      <td>7 049</td>\n",
              "      <td>150</td>\n",
              "      <td>Курьерская</td>\n",
              "      <td>Наличная</td>\n",
              "      <td>Москва</td>\n",
              "      <td>ТЕКСТИЛЬ, ТРИКОТАЖ</td>\n",
              "      <td>...</td>\n",
              "      <td>150</td>\n",
              "      <td>1</td>\n",
              "      <td>0</td>\n",
              "      <td>31.12.2017 0:00</td>\n",
              "      <td>NaN</td>\n",
              "      <td>NaN</td>\n",
              "      <td>NaN</td>\n",
              "      <td>NaN</td>\n",
              "      <td>NaN</td>\n",
              "      <td>NaN</td>\n",
              "    </tr>\n",
              "  </tbody>\n",
              "</table>\n",
              "<p>626614 rows × 38 columns</p>\n",
              "</div>\n",
              "    <div class=\"colab-df-buttons\">\n",
              "\n",
              "  <div class=\"colab-df-container\">\n",
              "    <button class=\"colab-df-convert\" onclick=\"convertToInteractive('df-7d6841a3-837f-44b3-ba2a-ea564b5a180b')\"\n",
              "            title=\"Convert this dataframe to an interactive table.\"\n",
              "            style=\"display:none;\">\n",
              "\n",
              "  <svg xmlns=\"http://www.w3.org/2000/svg\" height=\"24px\" viewBox=\"0 -960 960 960\">\n",
              "    <path d=\"M120-120v-720h720v720H120Zm60-500h600v-160H180v160Zm220 220h160v-160H400v160Zm0 220h160v-160H400v160ZM180-400h160v-160H180v160Zm440 0h160v-160H620v160ZM180-180h160v-160H180v160Zm440 0h160v-160H620v160Z\"/>\n",
              "  </svg>\n",
              "    </button>\n",
              "\n",
              "  <style>\n",
              "    .colab-df-container {\n",
              "      display:flex;\n",
              "      gap: 12px;\n",
              "    }\n",
              "\n",
              "    .colab-df-convert {\n",
              "      background-color: #E8F0FE;\n",
              "      border: none;\n",
              "      border-radius: 50%;\n",
              "      cursor: pointer;\n",
              "      display: none;\n",
              "      fill: #1967D2;\n",
              "      height: 32px;\n",
              "      padding: 0 0 0 0;\n",
              "      width: 32px;\n",
              "    }\n",
              "\n",
              "    .colab-df-convert:hover {\n",
              "      background-color: #E2EBFA;\n",
              "      box-shadow: 0px 1px 2px rgba(60, 64, 67, 0.3), 0px 1px 3px 1px rgba(60, 64, 67, 0.15);\n",
              "      fill: #174EA6;\n",
              "    }\n",
              "\n",
              "    .colab-df-buttons div {\n",
              "      margin-bottom: 4px;\n",
              "    }\n",
              "\n",
              "    [theme=dark] .colab-df-convert {\n",
              "      background-color: #3B4455;\n",
              "      fill: #D2E3FC;\n",
              "    }\n",
              "\n",
              "    [theme=dark] .colab-df-convert:hover {\n",
              "      background-color: #434B5C;\n",
              "      box-shadow: 0px 1px 3px 1px rgba(0, 0, 0, 0.15);\n",
              "      filter: drop-shadow(0px 1px 2px rgba(0, 0, 0, 0.3));\n",
              "      fill: #FFFFFF;\n",
              "    }\n",
              "  </style>\n",
              "\n",
              "    <script>\n",
              "      const buttonEl =\n",
              "        document.querySelector('#df-7d6841a3-837f-44b3-ba2a-ea564b5a180b button.colab-df-convert');\n",
              "      buttonEl.style.display =\n",
              "        google.colab.kernel.accessAllowed ? 'block' : 'none';\n",
              "\n",
              "      async function convertToInteractive(key) {\n",
              "        const element = document.querySelector('#df-7d6841a3-837f-44b3-ba2a-ea564b5a180b');\n",
              "        const dataTable =\n",
              "          await google.colab.kernel.invokeFunction('convertToInteractive',\n",
              "                                                    [key], {});\n",
              "        if (!dataTable) return;\n",
              "\n",
              "        const docLinkHtml = 'Like what you see? Visit the ' +\n",
              "          '<a target=\"_blank\" href=https://colab.research.google.com/notebooks/data_table.ipynb>data table notebook</a>'\n",
              "          + ' to learn more about interactive tables.';\n",
              "        element.innerHTML = '';\n",
              "        dataTable['output_type'] = 'display_data';\n",
              "        await google.colab.output.renderOutput(dataTable, element);\n",
              "        const docLink = document.createElement('div');\n",
              "        docLink.innerHTML = docLinkHtml;\n",
              "        element.appendChild(docLink);\n",
              "      }\n",
              "    </script>\n",
              "  </div>\n",
              "\n",
              "\n",
              "<div id=\"df-36c63a60-ae98-42d1-b657-6197e3efbff8\">\n",
              "  <button class=\"colab-df-quickchart\" onclick=\"quickchart('df-36c63a60-ae98-42d1-b657-6197e3efbff8')\"\n",
              "            title=\"Suggest charts\"\n",
              "            style=\"display:none;\">\n",
              "\n",
              "<svg xmlns=\"http://www.w3.org/2000/svg\" height=\"24px\"viewBox=\"0 0 24 24\"\n",
              "     width=\"24px\">\n",
              "    <g>\n",
              "        <path d=\"M19 3H5c-1.1 0-2 .9-2 2v14c0 1.1.9 2 2 2h14c1.1 0 2-.9 2-2V5c0-1.1-.9-2-2-2zM9 17H7v-7h2v7zm4 0h-2V7h2v10zm4 0h-2v-4h2v4z\"/>\n",
              "    </g>\n",
              "</svg>\n",
              "  </button>\n",
              "\n",
              "<style>\n",
              "  .colab-df-quickchart {\n",
              "      --bg-color: #E8F0FE;\n",
              "      --fill-color: #1967D2;\n",
              "      --hover-bg-color: #E2EBFA;\n",
              "      --hover-fill-color: #174EA6;\n",
              "      --disabled-fill-color: #AAA;\n",
              "      --disabled-bg-color: #DDD;\n",
              "  }\n",
              "\n",
              "  [theme=dark] .colab-df-quickchart {\n",
              "      --bg-color: #3B4455;\n",
              "      --fill-color: #D2E3FC;\n",
              "      --hover-bg-color: #434B5C;\n",
              "      --hover-fill-color: #FFFFFF;\n",
              "      --disabled-bg-color: #3B4455;\n",
              "      --disabled-fill-color: #666;\n",
              "  }\n",
              "\n",
              "  .colab-df-quickchart {\n",
              "    background-color: var(--bg-color);\n",
              "    border: none;\n",
              "    border-radius: 50%;\n",
              "    cursor: pointer;\n",
              "    display: none;\n",
              "    fill: var(--fill-color);\n",
              "    height: 32px;\n",
              "    padding: 0;\n",
              "    width: 32px;\n",
              "  }\n",
              "\n",
              "  .colab-df-quickchart:hover {\n",
              "    background-color: var(--hover-bg-color);\n",
              "    box-shadow: 0 1px 2px rgba(60, 64, 67, 0.3), 0 1px 3px 1px rgba(60, 64, 67, 0.15);\n",
              "    fill: var(--button-hover-fill-color);\n",
              "  }\n",
              "\n",
              "  .colab-df-quickchart-complete:disabled,\n",
              "  .colab-df-quickchart-complete:disabled:hover {\n",
              "    background-color: var(--disabled-bg-color);\n",
              "    fill: var(--disabled-fill-color);\n",
              "    box-shadow: none;\n",
              "  }\n",
              "\n",
              "  .colab-df-spinner {\n",
              "    border: 2px solid var(--fill-color);\n",
              "    border-color: transparent;\n",
              "    border-bottom-color: var(--fill-color);\n",
              "    animation:\n",
              "      spin 1s steps(1) infinite;\n",
              "  }\n",
              "\n",
              "  @keyframes spin {\n",
              "    0% {\n",
              "      border-color: transparent;\n",
              "      border-bottom-color: var(--fill-color);\n",
              "      border-left-color: var(--fill-color);\n",
              "    }\n",
              "    20% {\n",
              "      border-color: transparent;\n",
              "      border-left-color: var(--fill-color);\n",
              "      border-top-color: var(--fill-color);\n",
              "    }\n",
              "    30% {\n",
              "      border-color: transparent;\n",
              "      border-left-color: var(--fill-color);\n",
              "      border-top-color: var(--fill-color);\n",
              "      border-right-color: var(--fill-color);\n",
              "    }\n",
              "    40% {\n",
              "      border-color: transparent;\n",
              "      border-right-color: var(--fill-color);\n",
              "      border-top-color: var(--fill-color);\n",
              "    }\n",
              "    60% {\n",
              "      border-color: transparent;\n",
              "      border-right-color: var(--fill-color);\n",
              "    }\n",
              "    80% {\n",
              "      border-color: transparent;\n",
              "      border-right-color: var(--fill-color);\n",
              "      border-bottom-color: var(--fill-color);\n",
              "    }\n",
              "    90% {\n",
              "      border-color: transparent;\n",
              "      border-bottom-color: var(--fill-color);\n",
              "    }\n",
              "  }\n",
              "</style>\n",
              "\n",
              "  <script>\n",
              "    async function quickchart(key) {\n",
              "      const quickchartButtonEl =\n",
              "        document.querySelector('#' + key + ' button');\n",
              "      quickchartButtonEl.disabled = true;  // To prevent multiple clicks.\n",
              "      quickchartButtonEl.classList.add('colab-df-spinner');\n",
              "      try {\n",
              "        const charts = await google.colab.kernel.invokeFunction(\n",
              "            'suggestCharts', [key], {});\n",
              "      } catch (error) {\n",
              "        console.error('Error during call to suggestCharts:', error);\n",
              "      }\n",
              "      quickchartButtonEl.classList.remove('colab-df-spinner');\n",
              "      quickchartButtonEl.classList.add('colab-df-quickchart-complete');\n",
              "    }\n",
              "    (() => {\n",
              "      let quickchartButtonEl =\n",
              "        document.querySelector('#df-36c63a60-ae98-42d1-b657-6197e3efbff8 button');\n",
              "      quickchartButtonEl.style.display =\n",
              "        google.colab.kernel.accessAllowed ? 'block' : 'none';\n",
              "    })();\n",
              "  </script>\n",
              "</div>\n",
              "    </div>\n",
              "  </div>\n"
            ],
            "application/vnd.google.colaboratory.intrinsic+json": {
              "type": "dataframe",
              "variable_name": "df12_17"
            }
          },
          "metadata": {},
          "execution_count": 58
        }
      ]
    },
    {
      "cell_type": "code",
      "source": [
        "df12_17 = df12_17[df12_17.Телефон_new != 0]\n",
        "df12_17 = df12_17[df12_17.Количество != 0]\n",
        "df12_17 = df12_17[df12_17.Цена != 0]\n",
        "df12_17 = df12_17[df12_17.ГородМагазина != 0]\n",
        "df12_17.drop(columns=['НомерСтроки'], inplace=True)"
      ],
      "metadata": {
        "id": "pNJh5NVwLzFn"
      },
      "execution_count": null,
      "outputs": []
    },
    {
      "cell_type": "code",
      "source": [
        "df2 = df12_17.groupby('Телефон_new'). size().reset_index(name='count'). sort_values(['count'], ascending= False )\n",
        "df3 = df2[df2['count'] > 80]"
      ],
      "metadata": {
        "id": "SrUqGk8fLzCg"
      },
      "execution_count": null,
      "outputs": []
    },
    {
      "cell_type": "code",
      "source": [
        "df12_17[df12_17.Телефон_new == '0']\n",
        "df12_17=df12_17[~df12_17.Телефон_new.isin(df3.Телефон_new)]"
      ],
      "metadata": {
        "id": "opqenPfgMP-P"
      },
      "execution_count": null,
      "outputs": []
    },
    {
      "cell_type": "code",
      "source": [
        "toys_df12_17 = df12_17[df12_17['Тип'] == 'ИГРУШКИ']"
      ],
      "metadata": {
        "id": "RVlH5qRTLy_P"
      },
      "execution_count": null,
      "outputs": []
    },
    {
      "cell_type": "code",
      "source": [
        "gr_toys_df12_17 = toys_df12_17[['Дата', 'СуммаСтроки']].copy()\n",
        "\n",
        "print(gr_toys_df12_17.head())"
      ],
      "metadata": {
        "colab": {
          "base_uri": "https://localhost:8080/"
        },
        "id": "t4dfEIpYLy78",
        "outputId": "23a2011d-da8e-4939-df9f-3fba8cf836ad"
      },
      "execution_count": null,
      "outputs": [
        {
          "output_type": "stream",
          "name": "stdout",
          "text": [
            "              Дата СуммаСтроки\n",
            "1  01.12.2017 0:25         325\n",
            "2  01.12.2017 0:25         150\n",
            "3  01.12.2017 0:25         124\n",
            "4  01.12.2017 0:25         100\n",
            "5  01.12.2017 0:25         119\n"
          ]
        }
      ]
    },
    {
      "cell_type": "code",
      "source": [
        "gr_toys_df12_17['Дата'] = pd.to_datetime(gr_toys_df12_17['Дата'], format='%d.%m.%Y %H:%M')\n",
        "gr_toys_df12_17['Дата'] = gr_toys_df12_17['Дата'].dt.strftime('%d.%m.%Y')\n",
        "\n",
        "print(gr_toys_df12_17)"
      ],
      "metadata": {
        "colab": {
          "base_uri": "https://localhost:8080/"
        },
        "id": "sOb_yRXGLy5A",
        "outputId": "3c4df56e-0750-4bb4-e206-68e7a135afdb"
      },
      "execution_count": null,
      "outputs": [
        {
          "output_type": "stream",
          "name": "stdout",
          "text": [
            "              Дата СуммаСтроки\n",
            "1       01.12.2017         325\n",
            "2       01.12.2017         150\n",
            "3       01.12.2017         124\n",
            "4       01.12.2017         100\n",
            "5       01.12.2017         119\n",
            "...            ...         ...\n",
            "626597  31.12.2017         422\n",
            "626599  31.12.2017         703\n",
            "626605  31.12.2017          90\n",
            "626608  31.12.2017         872\n",
            "626611  31.12.2017       1 080\n",
            "\n",
            "[245331 rows x 2 columns]\n"
          ]
        }
      ]
    },
    {
      "cell_type": "markdown",
      "source": [
        "01_02_18"
      ],
      "metadata": {
        "id": "YTVvqvXpNZl3"
      }
    },
    {
      "cell_type": "code",
      "source": [
        "path = '/content/drive/MyDrive/diploma/!01_02_18_VSE.csv'\n",
        "df01_02_18=pd.read_csv(path,sep=';' , encoding = 'cp1251')"
      ],
      "metadata": {
        "colab": {
          "base_uri": "https://localhost:8080/"
        },
        "id": "pGLQ9iL_NdMQ",
        "outputId": "d64f07fc-520e-4a86-aef5-be0bad4116b1"
      },
      "execution_count": null,
      "outputs": [
        {
          "output_type": "stream",
          "name": "stderr",
          "text": [
            "<ipython-input-65-3afd7666ca55>:2: DtypeWarning: Columns (9,10,11,14,16,20,26,27,28) have mixed types. Specify dtype option on import or set low_memory=False.\n",
            "  df01_02_18=pd.read_csv(path,sep=';' , encoding = 'cp1251')\n"
          ]
        }
      ]
    },
    {
      "cell_type": "code",
      "source": [
        "df01_02_18 = df01_02_18[df01_02_18.Телефон_new != 0]\n",
        "df01_02_18 = df01_02_18[df01_02_18.Количество != 0]\n",
        "df01_02_18 = df01_02_18[df01_02_18.Цена != 0]\n",
        "df01_02_18 = df01_02_18[df01_02_18.ГородМагазина != 0]\n",
        "df01_02_18.drop(columns=['НомерСтроки'], inplace=True)"
      ],
      "metadata": {
        "id": "dUyyJntqNd-N"
      },
      "execution_count": null,
      "outputs": []
    },
    {
      "cell_type": "code",
      "source": [
        "df2 = df01_02_18.groupby('Телефон_new'). size().reset_index(name='count'). sort_values(['count'], ascending= False )\n",
        "df3 = df2[df2['count'] > 80]\n",
        "df01_02_18[df01_02_18.Телефон_new == '0']\n",
        "df01_02_18=df01_02_18[~df01_02_18.Телефон_new.isin(df3.Телефон_new)]"
      ],
      "metadata": {
        "id": "_rpzSSxtNd4J"
      },
      "execution_count": null,
      "outputs": []
    },
    {
      "cell_type": "code",
      "source": [
        "toys_df01_02_18 = df01_02_18[df01_02_18['Тип'] == 'ИГРУШКИ']"
      ],
      "metadata": {
        "id": "VdgrGNZjNdzM"
      },
      "execution_count": null,
      "outputs": []
    },
    {
      "cell_type": "code",
      "source": [
        "gr_toys_df01_02_18 = toys_df01_02_18[['Дата', 'СуммаСтроки']].copy()\n",
        "\n",
        "print(gr_toys_df01_02_18.head())"
      ],
      "metadata": {
        "colab": {
          "base_uri": "https://localhost:8080/"
        },
        "id": "L4NK4nIDNdsO",
        "outputId": "64062392-6f86-4cb6-dfcb-5193837909e8"
      },
      "execution_count": null,
      "outputs": [
        {
          "output_type": "stream",
          "name": "stdout",
          "text": [
            "                Дата СуммаСтроки\n",
            "2   07.02.2018 16:16         809\n",
            "4   06.02.2018 12:34         128\n",
            "9   01.02.2018 12:00          81\n",
            "11  02.02.2018 21:23          46\n",
            "12  08.02.2018 14:12          14\n"
          ]
        }
      ]
    },
    {
      "cell_type": "code",
      "source": [
        "gr_toys_df01_02_18['Дата'] = pd.to_datetime(gr_toys_df01_02_18['Дата'], format='%d.%m.%Y %H:%M')\n",
        "gr_toys_df01_02_18['Дата'] = gr_toys_df01_02_18['Дата'].dt.strftime('%d.%m.%Y')\n",
        "\n",
        "print(gr_toys_df01_02_18)"
      ],
      "metadata": {
        "colab": {
          "base_uri": "https://localhost:8080/"
        },
        "id": "q4WDybOJNdmm",
        "outputId": "99247b4d-e767-4356-d9f4-5c86b767c778"
      },
      "execution_count": null,
      "outputs": [
        {
          "output_type": "stream",
          "name": "stdout",
          "text": [
            "              Дата СуммаСтроки\n",
            "2       07.02.2018         809\n",
            "4       06.02.2018         128\n",
            "9       01.02.2018          81\n",
            "11      02.02.2018          46\n",
            "12      08.02.2018          14\n",
            "...            ...         ...\n",
            "693705  24.01.2018         214\n",
            "693706  23.01.2018         214\n",
            "693707  23.01.2018         214\n",
            "693708  23.01.2018         214\n",
            "693709  23.01.2018         214\n",
            "\n",
            "[138278 rows x 2 columns]\n"
          ]
        }
      ]
    },
    {
      "cell_type": "code",
      "source": [
        "gr_toys_df01_02_18['Дата'] = pd.to_datetime(gr_toys_df01_02_18['Дата'], format='%d.%m.%Y')\n",
        "gr_toys_df01_02_18 = gr_toys_df01_02_18.sort_values(by='Дата')"
      ],
      "metadata": {
        "id": "l52aW8LWPC-Z"
      },
      "execution_count": null,
      "outputs": []
    },
    {
      "cell_type": "code",
      "source": [
        "gr_toys_df01_02_18"
      ],
      "metadata": {
        "colab": {
          "base_uri": "https://localhost:8080/",
          "height": 411
        },
        "id": "6oXItgFxPp0R",
        "outputId": "1817bcec-7e78-4316-a8e3-fde063beb45f"
      },
      "execution_count": null,
      "outputs": [
        {
          "output_type": "execute_result",
          "data": {
            "text/plain": [
              "             Дата СуммаСтроки\n",
              "486237 2018-01-01         538\n",
              "486236 2018-01-01         889\n",
              "542607 2018-01-01       1 098\n",
              "542596 2018-01-01       2 245\n",
              "586635 2018-01-02         292\n",
              "...           ...         ...\n",
              "351630 2018-02-28          77\n",
              "351623 2018-02-28         545\n",
              "351609 2018-02-28       1 671\n",
              "351704 2018-02-28         671\n",
              "373224 2018-02-28       2 020\n",
              "\n",
              "[138278 rows x 2 columns]"
            ],
            "text/html": [
              "\n",
              "  <div id=\"df-6d2bebb0-6c3f-4f2b-916a-7cecc9419403\" class=\"colab-df-container\">\n",
              "    <div>\n",
              "<style scoped>\n",
              "    .dataframe tbody tr th:only-of-type {\n",
              "        vertical-align: middle;\n",
              "    }\n",
              "\n",
              "    .dataframe tbody tr th {\n",
              "        vertical-align: top;\n",
              "    }\n",
              "\n",
              "    .dataframe thead th {\n",
              "        text-align: right;\n",
              "    }\n",
              "</style>\n",
              "<table border=\"1\" class=\"dataframe\">\n",
              "  <thead>\n",
              "    <tr style=\"text-align: right;\">\n",
              "      <th></th>\n",
              "      <th>Дата</th>\n",
              "      <th>СуммаСтроки</th>\n",
              "    </tr>\n",
              "  </thead>\n",
              "  <tbody>\n",
              "    <tr>\n",
              "      <th>486237</th>\n",
              "      <td>2018-01-01</td>\n",
              "      <td>538</td>\n",
              "    </tr>\n",
              "    <tr>\n",
              "      <th>486236</th>\n",
              "      <td>2018-01-01</td>\n",
              "      <td>889</td>\n",
              "    </tr>\n",
              "    <tr>\n",
              "      <th>542607</th>\n",
              "      <td>2018-01-01</td>\n",
              "      <td>1 098</td>\n",
              "    </tr>\n",
              "    <tr>\n",
              "      <th>542596</th>\n",
              "      <td>2018-01-01</td>\n",
              "      <td>2 245</td>\n",
              "    </tr>\n",
              "    <tr>\n",
              "      <th>586635</th>\n",
              "      <td>2018-01-02</td>\n",
              "      <td>292</td>\n",
              "    </tr>\n",
              "    <tr>\n",
              "      <th>...</th>\n",
              "      <td>...</td>\n",
              "      <td>...</td>\n",
              "    </tr>\n",
              "    <tr>\n",
              "      <th>351630</th>\n",
              "      <td>2018-02-28</td>\n",
              "      <td>77</td>\n",
              "    </tr>\n",
              "    <tr>\n",
              "      <th>351623</th>\n",
              "      <td>2018-02-28</td>\n",
              "      <td>545</td>\n",
              "    </tr>\n",
              "    <tr>\n",
              "      <th>351609</th>\n",
              "      <td>2018-02-28</td>\n",
              "      <td>1 671</td>\n",
              "    </tr>\n",
              "    <tr>\n",
              "      <th>351704</th>\n",
              "      <td>2018-02-28</td>\n",
              "      <td>671</td>\n",
              "    </tr>\n",
              "    <tr>\n",
              "      <th>373224</th>\n",
              "      <td>2018-02-28</td>\n",
              "      <td>2 020</td>\n",
              "    </tr>\n",
              "  </tbody>\n",
              "</table>\n",
              "<p>138278 rows × 2 columns</p>\n",
              "</div>\n",
              "    <div class=\"colab-df-buttons\">\n",
              "\n",
              "  <div class=\"colab-df-container\">\n",
              "    <button class=\"colab-df-convert\" onclick=\"convertToInteractive('df-6d2bebb0-6c3f-4f2b-916a-7cecc9419403')\"\n",
              "            title=\"Convert this dataframe to an interactive table.\"\n",
              "            style=\"display:none;\">\n",
              "\n",
              "  <svg xmlns=\"http://www.w3.org/2000/svg\" height=\"24px\" viewBox=\"0 -960 960 960\">\n",
              "    <path d=\"M120-120v-720h720v720H120Zm60-500h600v-160H180v160Zm220 220h160v-160H400v160Zm0 220h160v-160H400v160ZM180-400h160v-160H180v160Zm440 0h160v-160H620v160ZM180-180h160v-160H180v160Zm440 0h160v-160H620v160Z\"/>\n",
              "  </svg>\n",
              "    </button>\n",
              "\n",
              "  <style>\n",
              "    .colab-df-container {\n",
              "      display:flex;\n",
              "      gap: 12px;\n",
              "    }\n",
              "\n",
              "    .colab-df-convert {\n",
              "      background-color: #E8F0FE;\n",
              "      border: none;\n",
              "      border-radius: 50%;\n",
              "      cursor: pointer;\n",
              "      display: none;\n",
              "      fill: #1967D2;\n",
              "      height: 32px;\n",
              "      padding: 0 0 0 0;\n",
              "      width: 32px;\n",
              "    }\n",
              "\n",
              "    .colab-df-convert:hover {\n",
              "      background-color: #E2EBFA;\n",
              "      box-shadow: 0px 1px 2px rgba(60, 64, 67, 0.3), 0px 1px 3px 1px rgba(60, 64, 67, 0.15);\n",
              "      fill: #174EA6;\n",
              "    }\n",
              "\n",
              "    .colab-df-buttons div {\n",
              "      margin-bottom: 4px;\n",
              "    }\n",
              "\n",
              "    [theme=dark] .colab-df-convert {\n",
              "      background-color: #3B4455;\n",
              "      fill: #D2E3FC;\n",
              "    }\n",
              "\n",
              "    [theme=dark] .colab-df-convert:hover {\n",
              "      background-color: #434B5C;\n",
              "      box-shadow: 0px 1px 3px 1px rgba(0, 0, 0, 0.15);\n",
              "      filter: drop-shadow(0px 1px 2px rgba(0, 0, 0, 0.3));\n",
              "      fill: #FFFFFF;\n",
              "    }\n",
              "  </style>\n",
              "\n",
              "    <script>\n",
              "      const buttonEl =\n",
              "        document.querySelector('#df-6d2bebb0-6c3f-4f2b-916a-7cecc9419403 button.colab-df-convert');\n",
              "      buttonEl.style.display =\n",
              "        google.colab.kernel.accessAllowed ? 'block' : 'none';\n",
              "\n",
              "      async function convertToInteractive(key) {\n",
              "        const element = document.querySelector('#df-6d2bebb0-6c3f-4f2b-916a-7cecc9419403');\n",
              "        const dataTable =\n",
              "          await google.colab.kernel.invokeFunction('convertToInteractive',\n",
              "                                                    [key], {});\n",
              "        if (!dataTable) return;\n",
              "\n",
              "        const docLinkHtml = 'Like what you see? Visit the ' +\n",
              "          '<a target=\"_blank\" href=https://colab.research.google.com/notebooks/data_table.ipynb>data table notebook</a>'\n",
              "          + ' to learn more about interactive tables.';\n",
              "        element.innerHTML = '';\n",
              "        dataTable['output_type'] = 'display_data';\n",
              "        await google.colab.output.renderOutput(dataTable, element);\n",
              "        const docLink = document.createElement('div');\n",
              "        docLink.innerHTML = docLinkHtml;\n",
              "        element.appendChild(docLink);\n",
              "      }\n",
              "    </script>\n",
              "  </div>\n",
              "\n",
              "\n",
              "<div id=\"df-9b350a83-4ed8-4c09-9bff-da519bfdcce5\">\n",
              "  <button class=\"colab-df-quickchart\" onclick=\"quickchart('df-9b350a83-4ed8-4c09-9bff-da519bfdcce5')\"\n",
              "            title=\"Suggest charts\"\n",
              "            style=\"display:none;\">\n",
              "\n",
              "<svg xmlns=\"http://www.w3.org/2000/svg\" height=\"24px\"viewBox=\"0 0 24 24\"\n",
              "     width=\"24px\">\n",
              "    <g>\n",
              "        <path d=\"M19 3H5c-1.1 0-2 .9-2 2v14c0 1.1.9 2 2 2h14c1.1 0 2-.9 2-2V5c0-1.1-.9-2-2-2zM9 17H7v-7h2v7zm4 0h-2V7h2v10zm4 0h-2v-4h2v4z\"/>\n",
              "    </g>\n",
              "</svg>\n",
              "  </button>\n",
              "\n",
              "<style>\n",
              "  .colab-df-quickchart {\n",
              "      --bg-color: #E8F0FE;\n",
              "      --fill-color: #1967D2;\n",
              "      --hover-bg-color: #E2EBFA;\n",
              "      --hover-fill-color: #174EA6;\n",
              "      --disabled-fill-color: #AAA;\n",
              "      --disabled-bg-color: #DDD;\n",
              "  }\n",
              "\n",
              "  [theme=dark] .colab-df-quickchart {\n",
              "      --bg-color: #3B4455;\n",
              "      --fill-color: #D2E3FC;\n",
              "      --hover-bg-color: #434B5C;\n",
              "      --hover-fill-color: #FFFFFF;\n",
              "      --disabled-bg-color: #3B4455;\n",
              "      --disabled-fill-color: #666;\n",
              "  }\n",
              "\n",
              "  .colab-df-quickchart {\n",
              "    background-color: var(--bg-color);\n",
              "    border: none;\n",
              "    border-radius: 50%;\n",
              "    cursor: pointer;\n",
              "    display: none;\n",
              "    fill: var(--fill-color);\n",
              "    height: 32px;\n",
              "    padding: 0;\n",
              "    width: 32px;\n",
              "  }\n",
              "\n",
              "  .colab-df-quickchart:hover {\n",
              "    background-color: var(--hover-bg-color);\n",
              "    box-shadow: 0 1px 2px rgba(60, 64, 67, 0.3), 0 1px 3px 1px rgba(60, 64, 67, 0.15);\n",
              "    fill: var(--button-hover-fill-color);\n",
              "  }\n",
              "\n",
              "  .colab-df-quickchart-complete:disabled,\n",
              "  .colab-df-quickchart-complete:disabled:hover {\n",
              "    background-color: var(--disabled-bg-color);\n",
              "    fill: var(--disabled-fill-color);\n",
              "    box-shadow: none;\n",
              "  }\n",
              "\n",
              "  .colab-df-spinner {\n",
              "    border: 2px solid var(--fill-color);\n",
              "    border-color: transparent;\n",
              "    border-bottom-color: var(--fill-color);\n",
              "    animation:\n",
              "      spin 1s steps(1) infinite;\n",
              "  }\n",
              "\n",
              "  @keyframes spin {\n",
              "    0% {\n",
              "      border-color: transparent;\n",
              "      border-bottom-color: var(--fill-color);\n",
              "      border-left-color: var(--fill-color);\n",
              "    }\n",
              "    20% {\n",
              "      border-color: transparent;\n",
              "      border-left-color: var(--fill-color);\n",
              "      border-top-color: var(--fill-color);\n",
              "    }\n",
              "    30% {\n",
              "      border-color: transparent;\n",
              "      border-left-color: var(--fill-color);\n",
              "      border-top-color: var(--fill-color);\n",
              "      border-right-color: var(--fill-color);\n",
              "    }\n",
              "    40% {\n",
              "      border-color: transparent;\n",
              "      border-right-color: var(--fill-color);\n",
              "      border-top-color: var(--fill-color);\n",
              "    }\n",
              "    60% {\n",
              "      border-color: transparent;\n",
              "      border-right-color: var(--fill-color);\n",
              "    }\n",
              "    80% {\n",
              "      border-color: transparent;\n",
              "      border-right-color: var(--fill-color);\n",
              "      border-bottom-color: var(--fill-color);\n",
              "    }\n",
              "    90% {\n",
              "      border-color: transparent;\n",
              "      border-bottom-color: var(--fill-color);\n",
              "    }\n",
              "  }\n",
              "</style>\n",
              "\n",
              "  <script>\n",
              "    async function quickchart(key) {\n",
              "      const quickchartButtonEl =\n",
              "        document.querySelector('#' + key + ' button');\n",
              "      quickchartButtonEl.disabled = true;  // To prevent multiple clicks.\n",
              "      quickchartButtonEl.classList.add('colab-df-spinner');\n",
              "      try {\n",
              "        const charts = await google.colab.kernel.invokeFunction(\n",
              "            'suggestCharts', [key], {});\n",
              "      } catch (error) {\n",
              "        console.error('Error during call to suggestCharts:', error);\n",
              "      }\n",
              "      quickchartButtonEl.classList.remove('colab-df-spinner');\n",
              "      quickchartButtonEl.classList.add('colab-df-quickchart-complete');\n",
              "    }\n",
              "    (() => {\n",
              "      let quickchartButtonEl =\n",
              "        document.querySelector('#df-9b350a83-4ed8-4c09-9bff-da519bfdcce5 button');\n",
              "      quickchartButtonEl.style.display =\n",
              "        google.colab.kernel.accessAllowed ? 'block' : 'none';\n",
              "    })();\n",
              "  </script>\n",
              "</div>\n",
              "    </div>\n",
              "  </div>\n"
            ],
            "application/vnd.google.colaboratory.intrinsic+json": {
              "type": "dataframe",
              "variable_name": "gr_toys_df01_02_18"
            }
          },
          "metadata": {},
          "execution_count": 72
        }
      ]
    },
    {
      "cell_type": "code",
      "source": [
        "gr_toys_df01_02_18['Дата'] = pd.to_datetime(gr_toys_df01_02_18['Дата'], format='%d.%m.%Y %H:%M')\n",
        "gr_toys_df01_02_18['Дата'] = gr_toys_df01_02_18['Дата'].dt.strftime('%d.%m.%Y')"
      ],
      "metadata": {
        "id": "23R2_pIZPqQN"
      },
      "execution_count": null,
      "outputs": []
    },
    {
      "cell_type": "markdown",
      "source": [
        "### Cоздание временного ряда"
      ],
      "metadata": {
        "id": "QVKGqrLKP42v"
      }
    },
    {
      "cell_type": "code",
      "source": [
        "all_toys = pd.concat([gr_toys_df01_02_17, gr_toys_df03_04_17, gr_toys_df05_06_17, gr_toys_df07_08_17, gr_toys_df09_10_17, gr_toys_df11_17, gr_toys_df12_17, gr_toys_df01_02_18], ignore_index=True)"
      ],
      "metadata": {
        "id": "HNJjFwWHP543"
      },
      "execution_count": null,
      "outputs": []
    },
    {
      "cell_type": "code",
      "source": [
        "all_toys.info()"
      ],
      "metadata": {
        "colab": {
          "base_uri": "https://localhost:8080/"
        },
        "id": "nxVRIM_aSIhp",
        "outputId": "9642b604-cae7-4936-dd37-d11f1a0c61ff"
      },
      "execution_count": null,
      "outputs": [
        {
          "output_type": "stream",
          "name": "stdout",
          "text": [
            "<class 'pandas.core.frame.DataFrame'>\n",
            "RangeIndex: 1238206 entries, 0 to 1238205\n",
            "Data columns (total 2 columns):\n",
            " #   Column       Non-Null Count    Dtype \n",
            "---  ------       --------------    ----- \n",
            " 0   Дата         1238206 non-null  object\n",
            " 1   СуммаСтроки  1238206 non-null  object\n",
            "dtypes: object(2)\n",
            "memory usage: 18.9+ MB\n"
          ]
        }
      ]
    },
    {
      "cell_type": "code",
      "source": [
        "all_toys"
      ],
      "metadata": {
        "colab": {
          "base_uri": "https://localhost:8080/",
          "height": 411
        },
        "id": "jdOQqEYmSmzD",
        "outputId": "70e492bb-64b8-4f7a-d310-fe2f91638bbb"
      },
      "execution_count": null,
      "outputs": [
        {
          "output_type": "execute_result",
          "data": {
            "text/plain": [
              "               Дата СуммаСтроки\n",
              "0        01.01.2017       1 069\n",
              "1        01.01.2017       6 858\n",
              "2        01.01.2017       6 858\n",
              "3        01.01.2017       6 858\n",
              "4        01.01.2017       6 858\n",
              "...             ...         ...\n",
              "1238201  28.02.2018          77\n",
              "1238202  28.02.2018         545\n",
              "1238203  28.02.2018       1 671\n",
              "1238204  28.02.2018         671\n",
              "1238205  28.02.2018       2 020\n",
              "\n",
              "[1238206 rows x 2 columns]"
            ],
            "text/html": [
              "\n",
              "  <div id=\"df-23576528-c5ac-4cf9-9d52-09bfd683db57\" class=\"colab-df-container\">\n",
              "    <div>\n",
              "<style scoped>\n",
              "    .dataframe tbody tr th:only-of-type {\n",
              "        vertical-align: middle;\n",
              "    }\n",
              "\n",
              "    .dataframe tbody tr th {\n",
              "        vertical-align: top;\n",
              "    }\n",
              "\n",
              "    .dataframe thead th {\n",
              "        text-align: right;\n",
              "    }\n",
              "</style>\n",
              "<table border=\"1\" class=\"dataframe\">\n",
              "  <thead>\n",
              "    <tr style=\"text-align: right;\">\n",
              "      <th></th>\n",
              "      <th>Дата</th>\n",
              "      <th>СуммаСтроки</th>\n",
              "    </tr>\n",
              "  </thead>\n",
              "  <tbody>\n",
              "    <tr>\n",
              "      <th>0</th>\n",
              "      <td>01.01.2017</td>\n",
              "      <td>1 069</td>\n",
              "    </tr>\n",
              "    <tr>\n",
              "      <th>1</th>\n",
              "      <td>01.01.2017</td>\n",
              "      <td>6 858</td>\n",
              "    </tr>\n",
              "    <tr>\n",
              "      <th>2</th>\n",
              "      <td>01.01.2017</td>\n",
              "      <td>6 858</td>\n",
              "    </tr>\n",
              "    <tr>\n",
              "      <th>3</th>\n",
              "      <td>01.01.2017</td>\n",
              "      <td>6 858</td>\n",
              "    </tr>\n",
              "    <tr>\n",
              "      <th>4</th>\n",
              "      <td>01.01.2017</td>\n",
              "      <td>6 858</td>\n",
              "    </tr>\n",
              "    <tr>\n",
              "      <th>...</th>\n",
              "      <td>...</td>\n",
              "      <td>...</td>\n",
              "    </tr>\n",
              "    <tr>\n",
              "      <th>1238201</th>\n",
              "      <td>28.02.2018</td>\n",
              "      <td>77</td>\n",
              "    </tr>\n",
              "    <tr>\n",
              "      <th>1238202</th>\n",
              "      <td>28.02.2018</td>\n",
              "      <td>545</td>\n",
              "    </tr>\n",
              "    <tr>\n",
              "      <th>1238203</th>\n",
              "      <td>28.02.2018</td>\n",
              "      <td>1 671</td>\n",
              "    </tr>\n",
              "    <tr>\n",
              "      <th>1238204</th>\n",
              "      <td>28.02.2018</td>\n",
              "      <td>671</td>\n",
              "    </tr>\n",
              "    <tr>\n",
              "      <th>1238205</th>\n",
              "      <td>28.02.2018</td>\n",
              "      <td>2 020</td>\n",
              "    </tr>\n",
              "  </tbody>\n",
              "</table>\n",
              "<p>1238206 rows × 2 columns</p>\n",
              "</div>\n",
              "    <div class=\"colab-df-buttons\">\n",
              "\n",
              "  <div class=\"colab-df-container\">\n",
              "    <button class=\"colab-df-convert\" onclick=\"convertToInteractive('df-23576528-c5ac-4cf9-9d52-09bfd683db57')\"\n",
              "            title=\"Convert this dataframe to an interactive table.\"\n",
              "            style=\"display:none;\">\n",
              "\n",
              "  <svg xmlns=\"http://www.w3.org/2000/svg\" height=\"24px\" viewBox=\"0 -960 960 960\">\n",
              "    <path d=\"M120-120v-720h720v720H120Zm60-500h600v-160H180v160Zm220 220h160v-160H400v160Zm0 220h160v-160H400v160ZM180-400h160v-160H180v160Zm440 0h160v-160H620v160ZM180-180h160v-160H180v160Zm440 0h160v-160H620v160Z\"/>\n",
              "  </svg>\n",
              "    </button>\n",
              "\n",
              "  <style>\n",
              "    .colab-df-container {\n",
              "      display:flex;\n",
              "      gap: 12px;\n",
              "    }\n",
              "\n",
              "    .colab-df-convert {\n",
              "      background-color: #E8F0FE;\n",
              "      border: none;\n",
              "      border-radius: 50%;\n",
              "      cursor: pointer;\n",
              "      display: none;\n",
              "      fill: #1967D2;\n",
              "      height: 32px;\n",
              "      padding: 0 0 0 0;\n",
              "      width: 32px;\n",
              "    }\n",
              "\n",
              "    .colab-df-convert:hover {\n",
              "      background-color: #E2EBFA;\n",
              "      box-shadow: 0px 1px 2px rgba(60, 64, 67, 0.3), 0px 1px 3px 1px rgba(60, 64, 67, 0.15);\n",
              "      fill: #174EA6;\n",
              "    }\n",
              "\n",
              "    .colab-df-buttons div {\n",
              "      margin-bottom: 4px;\n",
              "    }\n",
              "\n",
              "    [theme=dark] .colab-df-convert {\n",
              "      background-color: #3B4455;\n",
              "      fill: #D2E3FC;\n",
              "    }\n",
              "\n",
              "    [theme=dark] .colab-df-convert:hover {\n",
              "      background-color: #434B5C;\n",
              "      box-shadow: 0px 1px 3px 1px rgba(0, 0, 0, 0.15);\n",
              "      filter: drop-shadow(0px 1px 2px rgba(0, 0, 0, 0.3));\n",
              "      fill: #FFFFFF;\n",
              "    }\n",
              "  </style>\n",
              "\n",
              "    <script>\n",
              "      const buttonEl =\n",
              "        document.querySelector('#df-23576528-c5ac-4cf9-9d52-09bfd683db57 button.colab-df-convert');\n",
              "      buttonEl.style.display =\n",
              "        google.colab.kernel.accessAllowed ? 'block' : 'none';\n",
              "\n",
              "      async function convertToInteractive(key) {\n",
              "        const element = document.querySelector('#df-23576528-c5ac-4cf9-9d52-09bfd683db57');\n",
              "        const dataTable =\n",
              "          await google.colab.kernel.invokeFunction('convertToInteractive',\n",
              "                                                    [key], {});\n",
              "        if (!dataTable) return;\n",
              "\n",
              "        const docLinkHtml = 'Like what you see? Visit the ' +\n",
              "          '<a target=\"_blank\" href=https://colab.research.google.com/notebooks/data_table.ipynb>data table notebook</a>'\n",
              "          + ' to learn more about interactive tables.';\n",
              "        element.innerHTML = '';\n",
              "        dataTable['output_type'] = 'display_data';\n",
              "        await google.colab.output.renderOutput(dataTable, element);\n",
              "        const docLink = document.createElement('div');\n",
              "        docLink.innerHTML = docLinkHtml;\n",
              "        element.appendChild(docLink);\n",
              "      }\n",
              "    </script>\n",
              "  </div>\n",
              "\n",
              "\n",
              "<div id=\"df-acda3a94-a403-4b0a-81ed-7a700ada2932\">\n",
              "  <button class=\"colab-df-quickchart\" onclick=\"quickchart('df-acda3a94-a403-4b0a-81ed-7a700ada2932')\"\n",
              "            title=\"Suggest charts\"\n",
              "            style=\"display:none;\">\n",
              "\n",
              "<svg xmlns=\"http://www.w3.org/2000/svg\" height=\"24px\"viewBox=\"0 0 24 24\"\n",
              "     width=\"24px\">\n",
              "    <g>\n",
              "        <path d=\"M19 3H5c-1.1 0-2 .9-2 2v14c0 1.1.9 2 2 2h14c1.1 0 2-.9 2-2V5c0-1.1-.9-2-2-2zM9 17H7v-7h2v7zm4 0h-2V7h2v10zm4 0h-2v-4h2v4z\"/>\n",
              "    </g>\n",
              "</svg>\n",
              "  </button>\n",
              "\n",
              "<style>\n",
              "  .colab-df-quickchart {\n",
              "      --bg-color: #E8F0FE;\n",
              "      --fill-color: #1967D2;\n",
              "      --hover-bg-color: #E2EBFA;\n",
              "      --hover-fill-color: #174EA6;\n",
              "      --disabled-fill-color: #AAA;\n",
              "      --disabled-bg-color: #DDD;\n",
              "  }\n",
              "\n",
              "  [theme=dark] .colab-df-quickchart {\n",
              "      --bg-color: #3B4455;\n",
              "      --fill-color: #D2E3FC;\n",
              "      --hover-bg-color: #434B5C;\n",
              "      --hover-fill-color: #FFFFFF;\n",
              "      --disabled-bg-color: #3B4455;\n",
              "      --disabled-fill-color: #666;\n",
              "  }\n",
              "\n",
              "  .colab-df-quickchart {\n",
              "    background-color: var(--bg-color);\n",
              "    border: none;\n",
              "    border-radius: 50%;\n",
              "    cursor: pointer;\n",
              "    display: none;\n",
              "    fill: var(--fill-color);\n",
              "    height: 32px;\n",
              "    padding: 0;\n",
              "    width: 32px;\n",
              "  }\n",
              "\n",
              "  .colab-df-quickchart:hover {\n",
              "    background-color: var(--hover-bg-color);\n",
              "    box-shadow: 0 1px 2px rgba(60, 64, 67, 0.3), 0 1px 3px 1px rgba(60, 64, 67, 0.15);\n",
              "    fill: var(--button-hover-fill-color);\n",
              "  }\n",
              "\n",
              "  .colab-df-quickchart-complete:disabled,\n",
              "  .colab-df-quickchart-complete:disabled:hover {\n",
              "    background-color: var(--disabled-bg-color);\n",
              "    fill: var(--disabled-fill-color);\n",
              "    box-shadow: none;\n",
              "  }\n",
              "\n",
              "  .colab-df-spinner {\n",
              "    border: 2px solid var(--fill-color);\n",
              "    border-color: transparent;\n",
              "    border-bottom-color: var(--fill-color);\n",
              "    animation:\n",
              "      spin 1s steps(1) infinite;\n",
              "  }\n",
              "\n",
              "  @keyframes spin {\n",
              "    0% {\n",
              "      border-color: transparent;\n",
              "      border-bottom-color: var(--fill-color);\n",
              "      border-left-color: var(--fill-color);\n",
              "    }\n",
              "    20% {\n",
              "      border-color: transparent;\n",
              "      border-left-color: var(--fill-color);\n",
              "      border-top-color: var(--fill-color);\n",
              "    }\n",
              "    30% {\n",
              "      border-color: transparent;\n",
              "      border-left-color: var(--fill-color);\n",
              "      border-top-color: var(--fill-color);\n",
              "      border-right-color: var(--fill-color);\n",
              "    }\n",
              "    40% {\n",
              "      border-color: transparent;\n",
              "      border-right-color: var(--fill-color);\n",
              "      border-top-color: var(--fill-color);\n",
              "    }\n",
              "    60% {\n",
              "      border-color: transparent;\n",
              "      border-right-color: var(--fill-color);\n",
              "    }\n",
              "    80% {\n",
              "      border-color: transparent;\n",
              "      border-right-color: var(--fill-color);\n",
              "      border-bottom-color: var(--fill-color);\n",
              "    }\n",
              "    90% {\n",
              "      border-color: transparent;\n",
              "      border-bottom-color: var(--fill-color);\n",
              "    }\n",
              "  }\n",
              "</style>\n",
              "\n",
              "  <script>\n",
              "    async function quickchart(key) {\n",
              "      const quickchartButtonEl =\n",
              "        document.querySelector('#' + key + ' button');\n",
              "      quickchartButtonEl.disabled = true;  // To prevent multiple clicks.\n",
              "      quickchartButtonEl.classList.add('colab-df-spinner');\n",
              "      try {\n",
              "        const charts = await google.colab.kernel.invokeFunction(\n",
              "            'suggestCharts', [key], {});\n",
              "      } catch (error) {\n",
              "        console.error('Error during call to suggestCharts:', error);\n",
              "      }\n",
              "      quickchartButtonEl.classList.remove('colab-df-spinner');\n",
              "      quickchartButtonEl.classList.add('colab-df-quickchart-complete');\n",
              "    }\n",
              "    (() => {\n",
              "      let quickchartButtonEl =\n",
              "        document.querySelector('#df-acda3a94-a403-4b0a-81ed-7a700ada2932 button');\n",
              "      quickchartButtonEl.style.display =\n",
              "        google.colab.kernel.accessAllowed ? 'block' : 'none';\n",
              "    })();\n",
              "  </script>\n",
              "</div>\n",
              "    </div>\n",
              "  </div>\n"
            ],
            "application/vnd.google.colaboratory.intrinsic+json": {
              "type": "dataframe",
              "variable_name": "all_toys"
            }
          },
          "metadata": {},
          "execution_count": 76
        }
      ]
    },
    {
      "cell_type": "markdown",
      "source": [
        "### Объединение в годовой датафрейм"
      ],
      "metadata": {
        "id": "vtxY-qbcUuh0"
      }
    },
    {
      "cell_type": "code",
      "source": [
        "all_df = pd.concat([df01_02_17, df03_04_17, df05_06_17, df07_08_17, df09_10_17, df11_17, df12_17, df01_02_18], ignore_index=True)"
      ],
      "metadata": {
        "id": "qwUSYaz4A3P-"
      },
      "execution_count": null,
      "outputs": []
    },
    {
      "cell_type": "code",
      "source": [
        "all_df.info()"
      ],
      "metadata": {
        "colab": {
          "base_uri": "https://localhost:8080/"
        },
        "id": "oFEeDo25A3K-",
        "outputId": "a3f13c58-0889-42a6-d6af-542c49b47ca4"
      },
      "execution_count": null,
      "outputs": [
        {
          "output_type": "stream",
          "name": "stdout",
          "text": [
            "<class 'pandas.core.frame.DataFrame'>\n",
            "RangeIndex: 5155115 entries, 0 to 5155114\n",
            "Data columns (total 37 columns):\n",
            " #   Column                    Dtype \n",
            "---  ------                    ----- \n",
            " 0   Дата                      object\n",
            " 1   ДатаДоставки              object\n",
            " 2   НомерЗаказаНаСайте        object\n",
            " 3   НовыйСтатус               object\n",
            " 4   СуммаЗаказаНаСайте        object\n",
            " 5   СуммаДокумента            object\n",
            " 6   МетодДоставки             object\n",
            " 7   ФормаОплаты               object\n",
            " 8   Регион                    object\n",
            " 9   Группа2                   object\n",
            " 10  Группа3                   object\n",
            " 11  Группа4                   object\n",
            " 12  Тип                       object\n",
            " 13  Номенклатура              object\n",
            " 14  ТипТовара                 object\n",
            " 15  Отменено                  object\n",
            " 16  ПричинаОтмены             object\n",
            " 17  Количество                int64 \n",
            " 18  Цена                      object\n",
            " 19  СуммаСтроки               object\n",
            " 20  ЦенаЗакупки               object\n",
            " 21  МесяцДатыЗаказа           int64 \n",
            " 22  ГодДатыЗаказа             object\n",
            " 23  ПВЗ_код                   object\n",
            " 24  Статус                    object\n",
            " 25  Гео                       object\n",
            " 26  Маржа                     object\n",
            " 27  СуммаУслуг                object\n",
            " 28  СуммаДоставки             object\n",
            " 29  КоличествоПроданоКлиенту  int64 \n",
            " 30  ДатаЗаказаНаСайте         object\n",
            " 31  Телефон_new               object\n",
            " 32  ЭлектроннаяПочта_new      object\n",
            " 33  Клиент                    object\n",
            " 34  ID_SKU                    object\n",
            " 35  ГородМагазина             object\n",
            " 36  МагазинЗаказа             object\n",
            "dtypes: int64(3), object(34)\n",
            "memory usage: 1.4+ GB\n"
          ]
        }
      ]
    },
    {
      "cell_type": "code",
      "source": [
        "nan_count = all_df.isna().sum()\n",
        "print(nan_count)"
      ],
      "metadata": {
        "colab": {
          "base_uri": "https://localhost:8080/"
        },
        "id": "soxPeFfcKbQf",
        "outputId": "0b75583b-71c9-43cf-d7d0-f94b0a4b2af8"
      },
      "execution_count": null,
      "outputs": [
        {
          "output_type": "stream",
          "name": "stdout",
          "text": [
            "Дата                              0\n",
            "ДатаДоставки                   3587\n",
            "НомерЗаказаНаСайте                0\n",
            "НовыйСтатус                       0\n",
            "СуммаЗаказаНаСайте                0\n",
            "СуммаДокумента                    0\n",
            "МетодДоставки                    93\n",
            "ФормаОплаты                      96\n",
            "Регион                        33002\n",
            "Группа2                      851985\n",
            "Группа3                      851987\n",
            "Группа4                     1036962\n",
            "Тип                               0\n",
            "Номенклатура                      0\n",
            "ТипТовара                    851985\n",
            "Отменено                          0\n",
            "ПричинаОтмены               4801225\n",
            "Количество                        0\n",
            "Цена                              0\n",
            "СуммаСтроки                       0\n",
            "ЦенаЗакупки                  891181\n",
            "МесяцДатыЗаказа                   0\n",
            "ГодДатыЗаказа                     0\n",
            "ПВЗ_код                     1403946\n",
            "Статус                            0\n",
            "Гео                               0\n",
            "Маржа                        891181\n",
            "СуммаУслуг                        0\n",
            "СуммаДоставки                     0\n",
            "КоличествоПроданоКлиенту          0\n",
            "ДатаЗаказаНаСайте                 0\n",
            "Телефон_new                 1147549\n",
            "ЭлектроннаяПочта_new        1220391\n",
            "Клиент                      1150610\n",
            "ID_SKU                      1149592\n",
            "ГородМагазина               1149592\n",
            "МагазинЗаказа               5123205\n",
            "dtype: int64\n"
          ]
        }
      ]
    },
    {
      "cell_type": "code",
      "source": [
        "all_df = all_df.dropna(subset=['Телефон_new'])"
      ],
      "metadata": {
        "id": "b5iH6BmpJP32"
      },
      "execution_count": null,
      "outputs": []
    },
    {
      "cell_type": "code",
      "source": [
        "#all_df.info()"
      ],
      "metadata": {
        "id": "lAjSnfSfJPxQ"
      },
      "execution_count": null,
      "outputs": []
    },
    {
      "cell_type": "code",
      "source": [
        "all_df['Статус'].unique()"
      ],
      "metadata": {
        "id": "SaZ3C_NHKpvj",
        "colab": {
          "base_uri": "https://localhost:8080/"
        },
        "outputId": "f31c23d4-1298-4d58-95a7-cbab1b992f9d"
      },
      "execution_count": null,
      "outputs": [
        {
          "output_type": "execute_result",
          "data": {
            "text/plain": [
              "array(['Возврат', 'Доставлен', 'В процессе', 'Отменен', 'Не определен'],\n",
              "      dtype=object)"
            ]
          },
          "metadata": {},
          "execution_count": 93
        }
      ]
    },
    {
      "cell_type": "markdown",
      "source": [
        "- КГТ- крупногабаритная техника\n",
        "- ППКП - подгузники, товары для гигиены и ухода за младенцем, продукты для кормления (бутылочки, пустышки, поильники и т.д.), детское питание (смеси, каши и т.д."
      ],
      "metadata": {
        "id": "CXC_eTNnDUL5"
      }
    },
    {
      "cell_type": "code",
      "source": [
        "unique_values = all_df[all_df['Тип'] == 'ИНОЕ']['Группа2'].unique()\n",
        "print(unique_values)"
      ],
      "metadata": {
        "colab": {
          "base_uri": "https://localhost:8080/"
        },
        "id": "MhtmQL9CEgvo",
        "outputId": "4c116808-34d7-4d33-f560-339517f51769"
      },
      "execution_count": null,
      "outputs": [
        {
          "output_type": "stream",
          "name": "stdout",
          "text": [
            "[nan 'ТОВАРЫ ДЛЯ ЖИВОТНЫХ' 'ЖЕНСКИЕ ШТУЧКИ' 'ТЕХНИКА И ТОВАРЫ ДЛЯ ДОМА']\n"
          ]
        }
      ]
    },
    {
      "cell_type": "code",
      "source": [
        "nan_count = all_df.isna().sum()\n",
        "print(nan_count)"
      ],
      "metadata": {
        "colab": {
          "base_uri": "https://localhost:8080/"
        },
        "id": "KFDhUUGcJCta",
        "outputId": "14e99f20-ea3e-4403-fc01-04d3583fd9a6"
      },
      "execution_count": null,
      "outputs": [
        {
          "output_type": "stream",
          "name": "stdout",
          "text": [
            "Дата                              0\n",
            "ДатаДоставки                   2776\n",
            "НомерЗаказаНаСайте                0\n",
            "НовыйСтатус                       0\n",
            "СуммаЗаказаНаСайте                0\n",
            "СуммаДокумента                    0\n",
            "МетодДоставки                     7\n",
            "ФормаОплаты                      10\n",
            "Регион                        27808\n",
            "Группа2                      643873\n",
            "Группа3                      643873\n",
            "Группа4                      792816\n",
            "Тип                               0\n",
            "Номенклатура                      0\n",
            "ТипТовара                    643873\n",
            "Отменено                          0\n",
            "ПричинаОтмены               3743658\n",
            "Количество                        0\n",
            "Цена                              0\n",
            "СуммаСтроки                       0\n",
            "ЦенаЗакупки                  681123\n",
            "МесяцДатыЗаказа                   0\n",
            "ГодДатыЗаказа                     0\n",
            "ПВЗ_код                     1132636\n",
            "Статус                            0\n",
            "Гео                               0\n",
            "Маржа                        681123\n",
            "СуммаУслуг                        0\n",
            "СуммаДоставки                     0\n",
            "КоличествоПроданоКлиенту          0\n",
            "ДатаЗаказаНаСайте                 0\n",
            "Телефон_new                       0\n",
            "ЭлектроннаяПочта_new          72842\n",
            "Клиент                         3061\n",
            "ID_SKU                         2043\n",
            "ГородМагазина                  2043\n",
            "МагазинЗаказа               3980749\n",
            "dtype: int64\n"
          ]
        }
      ]
    },
    {
      "cell_type": "markdown",
      "source": [
        "удалили столбцы с большим количеством пропусков"
      ],
      "metadata": {
        "id": "KgSlY_P0NbrZ"
      }
    },
    {
      "cell_type": "code",
      "source": [
        "all_df.drop(['МагазинЗаказа', 'ПричинаОтмены'], axis=1, inplace=True)"
      ],
      "metadata": {
        "id": "waBPQZ_s2RNw"
      },
      "execution_count": null,
      "outputs": []
    },
    {
      "cell_type": "code",
      "source": [
        "all_df[\"Тип\"].unique()"
      ],
      "metadata": {
        "colab": {
          "base_uri": "https://localhost:8080/"
        },
        "id": "8hF3BptQM8yZ",
        "outputId": "89a56572-c4b3-4226-93b3-d67ab1de12cb"
      },
      "execution_count": null,
      "outputs": [
        {
          "output_type": "execute_result",
          "data": {
            "text/plain": [
              "array(['ОДЕЖДА', 'ППКП', 'ИГРУШКИ', 'КГТ', 'ИНОЕ'], dtype=object)"
            ]
          },
          "metadata": {},
          "execution_count": 111
        }
      ]
    },
    {
      "cell_type": "code",
      "source": [
        "all_df.to_csv('/content/drive/MyDrive/diploma/all_df.csv', index=False)"
      ],
      "metadata": {
        "id": "8zk-FzgPofol"
      },
      "execution_count": null,
      "outputs": []
    }
  ]
}